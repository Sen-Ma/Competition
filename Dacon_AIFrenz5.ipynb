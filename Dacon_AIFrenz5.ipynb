{
  "nbformat": 4,
  "nbformat_minor": 0,
  "metadata": {
    "colab": {
      "name": "Dacon_AIFrenz5.ipynb",
      "provenance": [],
      "collapsed_sections": [],
      "authorship_tag": "ABX9TyO8k0CXMkyEfbJePbsDjSv2",
      "include_colab_link": true
    },
    "kernelspec": {
      "name": "python3",
      "display_name": "Python 3"
    },
    "accelerator": "GPU"
  },
  "cells": [
    {
      "cell_type": "markdown",
      "metadata": {
        "id": "view-in-github",
        "colab_type": "text"
      },
      "source": [
        "<a href=\"https://colab.research.google.com/github/Sen-Ma/Dacon/blob/master/Dacon_AIFrenz5.ipynb\" target=\"_parent\"><img src=\"https://colab.research.google.com/assets/colab-badge.svg\" alt=\"Open In Colab\"/></a>"
      ]
    },
    {
      "cell_type": "code",
      "metadata": {
        "id": "PPxHy_AB23es",
        "colab_type": "code",
        "outputId": "28b6576b-ec10-4be2-ef49-fa8343d226f3",
        "colab": {
          "base_uri": "https://localhost:8080/",
          "height": 126
        }
      },
      "source": [
        "from google.colab import drive\n",
        "drive.mount('/content/drive')"
      ],
      "execution_count": 1,
      "outputs": [
        {
          "output_type": "stream",
          "text": [
            "Go to this URL in a browser: https://accounts.google.com/o/oauth2/auth?client_id=947318989803-6bn6qk8qdgf4n4g3pfee6491hc0brc4i.apps.googleusercontent.com&redirect_uri=urn%3aietf%3awg%3aoauth%3a2.0%3aoob&response_type=code&scope=email%20https%3a%2f%2fwww.googleapis.com%2fauth%2fdocs.test%20https%3a%2f%2fwww.googleapis.com%2fauth%2fdrive%20https%3a%2f%2fwww.googleapis.com%2fauth%2fdrive.photos.readonly%20https%3a%2f%2fwww.googleapis.com%2fauth%2fpeopleapi.readonly\n",
            "\n",
            "Enter your authorization code:\n",
            "··········\n",
            "Mounted at /content/drive\n"
          ],
          "name": "stdout"
        }
      ]
    },
    {
      "cell_type": "code",
      "metadata": {
        "id": "OitkDKNi2_TK",
        "colab_type": "code",
        "colab": {}
      },
      "source": [
        "import pandas as pd \n",
        "import numpy as np \n",
        "from tqdm import tqdm\n",
        "import matplotlib.pyplot as plt\n",
        "import os "
      ],
      "execution_count": 0,
      "outputs": []
    },
    {
      "cell_type": "code",
      "metadata": {
        "id": "o_lmw1QO3K0J",
        "colab_type": "code",
        "colab": {}
      },
      "source": [
        "os.chdir('/content/drive/My Drive/AIFrenz')\n",
        "train = pd.read_csv('train.csv', index_col = 'id')\n",
        "test = pd.read_csv('test.csv', index_col = 'id')\n",
        "sub = pd.read_csv(\"sample_submission.csv\")"
      ],
      "execution_count": 0,
      "outputs": []
    },
    {
      "cell_type": "code",
      "metadata": {
        "id": "OcgFsozH3a5u",
        "colab_type": "code",
        "colab": {}
      },
      "source": [
        "train.columns = ['TempA', 'AtmA', 'WindA','WindB','PrecipitationA','Sea_pressA','AtmB','TempB','Sea_pressB','Sea_pressC','PrecipitationB','InsolationA','HumidityA','DirectionA','InsolationB','DirectionB','InsolationC','DirectionC','WindC','InsolationD','HumidityB','PrecipitationC','AtmC','Sea_pressD','WindD','DirectionD','WindE','AtmD','TempC','AtmE','HumidityC','TempD','TempE','Sea_pressE','InsolationE','DirectionE','PrecipitationD','HumidityD','HumidityE','PrecipitationE','Y00','Y01','Y02','Y03','Y04','Y05','Y06','Y07','Y08','Y09','Y10','Y11','Y12','Y13','Y14','Y15','Y16','Y17','Y18']"
      ],
      "execution_count": 0,
      "outputs": []
    },
    {
      "cell_type": "code",
      "metadata": {
        "id": "9NHJVYOF3k3i",
        "colab_type": "code",
        "colab": {}
      },
      "source": [
        "train = train.sort_index(axis = 1)"
      ],
      "execution_count": 0,
      "outputs": []
    },
    {
      "cell_type": "code",
      "metadata": {
        "id": "OKibn0aspMmh",
        "colab_type": "code",
        "colab": {}
      },
      "source": [
        "def direction_change(X):\n",
        "  for i in range(0,360,10):\n",
        "    for k in ['A','B','C','D','E']:\n",
        "      X['Direction{}_{}'.format(k,i)] = 0\n",
        "      for j in range(0, len(X)):\n",
        "        if X['Direction{}'.format(k)].iloc[j]<=i+5 and X['Direction{}'.format(k)].iloc[j]>i-5 : \n",
        "          X['Direction{}_{}'.format(k,i)].iloc[j] = 1\n",
        "\n",
        "        if X['Direction{}'.format(k)].iloc[j]>355:\n",
        "          X['Direction{}_0'.format(k)].iloc[j] = 1\n",
        "\n",
        "def direction_zero(X):\n",
        "  for i in range(0,len(X)):\n",
        "    if X['WindC'].iloc[i] == 0:\n",
        "      X['DirectionA_0'].iloc[i] = 0 \n",
        "    if X['WindA'].iloc[i] == 0:\n",
        "      X['DirectionB_0'].iloc[i] = 0\n",
        "    if X['WindE'].iloc[i] == 0:\n",
        "      X['DirectionC_0'].iloc[i] = 0\n",
        "    if X['WindD'].iloc[i] == 0:\n",
        "      X['DirectionD_0'].iloc[i] = 0\n",
        "    if X['WindB'].iloc[i] == 0:\n",
        "      X['DirectionE_0'].iloc[i] = 0\n",
        "    "
      ],
      "execution_count": 0,
      "outputs": []
    },
    {
      "cell_type": "code",
      "metadata": {
        "id": "KlVNMpycpNrg",
        "colab_type": "code",
        "colab": {}
      },
      "source": [
        "# direction_change(train)\n",
        "# direction_zero(train)"
      ],
      "execution_count": 0,
      "outputs": []
    },
    {
      "cell_type": "code",
      "metadata": {
        "id": "3GRs8W2lb90O",
        "colab_type": "code",
        "colab": {}
      },
      "source": [
        "def precipitation_change(X):\n",
        "  X['PrecipitationB_change'] = 0\n",
        "  X['PrecipitationC_change'] = 0\n",
        "  X['PrecipitationE_change'] = 0\n",
        "  for i in range(0, len(X)):\n",
        "    X['PrecipitationB_change'].iloc[i] = X['PrecipitationB'].iloc[i] - X['PrecipitationB'].iloc[i-1]\n",
        "    X['PrecipitationC_change'].iloc[i] = X['PrecipitationC'].iloc[i] - X['PrecipitationC'].iloc[i-1]\n",
        "    X['PrecipitationE_change'].iloc[i] = X['PrecipitationE'].iloc[i] - X['PrecipitationE'].iloc[i-1]\n",
        "\n",
        "    if i%144 == 0 :\n",
        "      X['PrecipitationB_change'].iloc[i] = X['PrecipitationB'].iloc[i]\n",
        "      X['PrecipitationC_change'].iloc[i] = X['PrecipitationE'].iloc[i]\n",
        "      X['PrecipitationE_change'].iloc[i] = X['PrecipitationE'].iloc[i]"
      ],
      "execution_count": 0,
      "outputs": []
    },
    {
      "cell_type": "code",
      "metadata": {
        "id": "oLQtCDykb-l5",
        "colab_type": "code",
        "colab": {}
      },
      "source": [
        "# precipitation_change(train)"
      ],
      "execution_count": 0,
      "outputs": []
    },
    {
      "cell_type": "code",
      "metadata": {
        "id": "J9g_V0OYwDsf",
        "colab_type": "code",
        "colab": {}
      },
      "source": [
        "def precipitation_increase (X):\n",
        "  X['PrecipitationB_increase'] = 0\n",
        "  X['PrecipitationC_increase'] = 0\n",
        "  X['PrecipitationE_increase'] = 0\n",
        "  for x in range(0, len(X)):  \n",
        "    for i in ['B','C','E']:\n",
        "      X['Precipitation%s_increase'%i].iloc[x] = X['Precipitation%s_change'%i].iloc[x] - X['Precipitation%s_change'%i].iloc[x-1] "
      ],
      "execution_count": 0,
      "outputs": []
    },
    {
      "cell_type": "code",
      "metadata": {
        "id": "7umiL5Lywlam",
        "colab_type": "code",
        "colab": {}
      },
      "source": [
        "# precipitation_increase(train)"
      ],
      "execution_count": 0,
      "outputs": []
    },
    {
      "cell_type": "code",
      "metadata": {
        "id": "SoLGH_P8cB1Y",
        "colab_type": "code",
        "colab": {}
      },
      "source": [
        "def precipitation_sum(X):\n",
        "  X['PrecipitationB_sum_1H'] =0\n",
        "  X['PrecipitationC_sum_1H'] =0\n",
        "  X['PrecipitationE_sum_1H'] =0\n",
        "  X['PrecipitationB_sum_3H'] =0\n",
        "  X['PrecipitationC_sum_3H'] =0\n",
        "  X['PrecipitationE_sum_3H'] =0\n",
        "  X['PrecipitationB_sum_6H'] =0\n",
        "  X['PrecipitationC_sum_6H'] =0\n",
        "  X['PrecipitationE_sum_6H'] =0\n",
        "  X['PrecipitationB_sum_12H'] =0\n",
        "  X['PrecipitationC_sum_12H'] =0\n",
        "  X['PrecipitationE_sum_12H'] =0\n",
        "\n",
        "  BCE = ['B','C','E']\n",
        "  Hour = (1,3,6,12)\n",
        "\n",
        "  for i in range(0,len(X)):\n",
        "    for j in BCE :\n",
        "      for k in Hour :\n",
        "        X['Precipitation{}_sum_{}H'.format(j,k)].iloc[i] = X['Precipitation%s_change'%j].iloc[i-(6*k):i+1].sum()\n"
      ],
      "execution_count": 0,
      "outputs": []
    },
    {
      "cell_type": "code",
      "metadata": {
        "id": "_XDYg38ccCyh",
        "colab_type": "code",
        "colab": {}
      },
      "source": [
        "# precipitation_sum(train)"
      ],
      "execution_count": 0,
      "outputs": []
    },
    {
      "cell_type": "code",
      "metadata": {
        "id": "2B52kT3l3oHO",
        "colab_type": "code",
        "colab": {}
      },
      "source": [
        "def del_trash(X):\n",
        "  del X['PrecipitationA'], X['PrecipitationD'], X['InsolationB'], X['InsolationC'], X['InsolationD']"
      ],
      "execution_count": 0,
      "outputs": []
    },
    {
      "cell_type": "code",
      "metadata": {
        "id": "2iniHK3W3s1C",
        "colab_type": "code",
        "colab": {}
      },
      "source": [
        "del_trash(train)"
      ],
      "execution_count": 0,
      "outputs": []
    },
    {
      "cell_type": "code",
      "metadata": {
        "id": "0y3kUK-m3t8U",
        "colab_type": "code",
        "colab": {}
      },
      "source": [
        "def Insolation_change(X):\n",
        "  X['InsolationA_change'] = 0\n",
        "  X['InsolationE_change'] = 0 \n",
        "  for i in range(0, len(X)):\n",
        "    X['InsolationA_change'].iloc[i] = X['InsolationA'].iloc[i] - X['InsolationA'].iloc[i-1]\n",
        "    X['InsolationE_change'].iloc[i] = X['InsolationE'].iloc[i] - X['InsolationE'].iloc[i-1]\n",
        "    \n",
        "    if i%144 == 0:\n",
        "      X['InsolationA_change'].iloc[i] = 0\n",
        "      X['InsolationE_change'].iloc[i] = 0"
      ],
      "execution_count": 0,
      "outputs": []
    },
    {
      "cell_type": "code",
      "metadata": {
        "id": "fZ0Swq8z4NUE",
        "colab_type": "code",
        "outputId": "c897673c-e40f-48f5-b466-f5a23af77245",
        "colab": {
          "base_uri": "https://localhost:8080/",
          "height": 106
        }
      },
      "source": [
        "Insolation_change(train)"
      ],
      "execution_count": 18,
      "outputs": [
        {
          "output_type": "stream",
          "text": [
            "/usr/local/lib/python3.6/dist-packages/pandas/core/indexing.py:671: SettingWithCopyWarning: \n",
            "A value is trying to be set on a copy of a slice from a DataFrame\n",
            "\n",
            "See the caveats in the documentation: https://pandas.pydata.org/pandas-docs/stable/user_guide/indexing.html#returning-a-view-versus-a-copy\n",
            "  self._setitem_with_indexer(indexer, value)\n"
          ],
          "name": "stderr"
        }
      ]
    },
    {
      "cell_type": "code",
      "metadata": {
        "id": "eicKnfri0HG5",
        "colab_type": "code",
        "colab": {}
      },
      "source": [
        "def increase_humidity(X):\n",
        "  for i in ['A','B','C','D','E']:\n",
        "    X['Humidity%s_increase'%i] = 0\n",
        "    for j in range(0, len(X)):\n",
        "      X['Humidity%s_increase'%i].iloc[j] = X['Humidity%s'%i].iloc[j] - X['Humidity%s'%i].iloc[j-1]\n",
        "\n",
        "    X['Humidity%s_increase'%i].iloc[0] = 0\n"
      ],
      "execution_count": 0,
      "outputs": []
    },
    {
      "cell_type": "code",
      "metadata": {
        "id": "mmrE_TpZ167t",
        "colab_type": "code",
        "outputId": "32c3c33f-aa6e-4c08-d95b-69a9b734ca8c",
        "colab": {
          "base_uri": "https://localhost:8080/",
          "height": 106
        }
      },
      "source": [
        "increase_humidity(train)"
      ],
      "execution_count": 20,
      "outputs": [
        {
          "output_type": "stream",
          "text": [
            "/usr/local/lib/python3.6/dist-packages/pandas/core/indexing.py:671: SettingWithCopyWarning: \n",
            "A value is trying to be set on a copy of a slice from a DataFrame\n",
            "\n",
            "See the caveats in the documentation: https://pandas.pydata.org/pandas-docs/stable/user_guide/indexing.html#returning-a-view-versus-a-copy\n",
            "  self._setitem_with_indexer(indexer, value)\n"
          ],
          "name": "stderr"
        }
      ]
    },
    {
      "cell_type": "code",
      "metadata": {
        "id": "BDMYwiGbximW",
        "colab_type": "code",
        "colab": {}
      },
      "source": [
        "def temp_increase (X):\n",
        "  # for i in ['A','B','C','D','E']:\n",
        "  for i in ['A','B','C','D','E']:\n",
        "    X['Temp%s_increase'%i] = 0\n",
        "\n",
        "    for j in range(0, len(X)):\n",
        "      X['Temp%s_increase'%i].iloc[j] = X['Temp%s'%i].iloc[j] - X['Temp%s'%i].iloc[j-1]\n",
        "    \n",
        "    X['Temp%s_increase'%i].iloc[0] = 0\n"
      ],
      "execution_count": 0,
      "outputs": []
    },
    {
      "cell_type": "code",
      "metadata": {
        "id": "Q1zCYsgPxr-B",
        "colab_type": "code",
        "outputId": "0a13c973-32bb-488f-d6f0-3211344d5564",
        "colab": {
          "base_uri": "https://localhost:8080/",
          "height": 106
        }
      },
      "source": [
        "temp_increase(train)"
      ],
      "execution_count": 22,
      "outputs": [
        {
          "output_type": "stream",
          "text": [
            "/usr/local/lib/python3.6/dist-packages/pandas/core/indexing.py:671: SettingWithCopyWarning: \n",
            "A value is trying to be set on a copy of a slice from a DataFrame\n",
            "\n",
            "See the caveats in the documentation: https://pandas.pydata.org/pandas-docs/stable/user_guide/indexing.html#returning-a-view-versus-a-copy\n",
            "  self._setitem_with_indexer(indexer, value)\n"
          ],
          "name": "stderr"
        }
      ]
    },
    {
      "cell_type": "code",
      "metadata": {
        "id": "A8df9XMK4Pqu",
        "colab_type": "code",
        "colab": {}
      },
      "source": [
        "#이상치 제거\n",
        "train['InsolationA_change'].iloc[2077] = 0.49\n",
        "train['InsolationA_change'].iloc[2078] = 0.5\n",
        "train['InsolationA_change'].iloc[2079] = 0.51\n",
        "train['InsolationA_change'].iloc[2080] = 0.52\n",
        "train['InsolationA_change'].iloc[510] = 0.57 \n",
        "\n",
        "train['InsolationE_change'].iloc[1213] = 0.528\n",
        "train['InsolationE_change'].iloc[1214] = 0.538\n",
        "train['InsolationE_change'].iloc[1215] = 0.548\n",
        "train['InsolationE_change'].iloc[1216] = 0.558 \n",
        "train['InsolationE_change'].iloc[1217] = 0.568\n",
        "\n",
        "train['InsolationE_change'].iloc[1219] = 0.60\n",
        "train['InsolationE_change'].iloc[1220] = 0.61\n",
        "train['InsolationE_change'].iloc[1221] = 0.62\n",
        "train['InsolationE_change'].iloc[1222] = 0.63\n",
        "train['InsolationE_change'].iloc[1223] = 0.64\n",
        "\n",
        "train['InsolationE_change'].iloc[1225] = 0.64\n",
        "train['InsolationE_change'].iloc[1226] = 0.65\n",
        "train['InsolationE_change'].iloc[1227] = 0.66\n",
        "\n",
        "train['InsolationE_change'].iloc[1927] = 0.38\n",
        "train['InsolationE_change'].iloc[1928] = 0.41"
      ],
      "execution_count": 0,
      "outputs": []
    },
    {
      "cell_type": "code",
      "metadata": {
        "id": "z1DeeBnZ4RMN",
        "colab_type": "code",
        "colab": {}
      },
      "source": [
        "def Insolation_sum(X):\n",
        "  X['InsolationA_sum'] = 0\n",
        "  X['InsolationE_sum'] = 0\n",
        "  X['InsolationA_12sum'] = 0\n",
        "  X['InsolationE_12sum'] = 0\n",
        "  X['InsolationA_6sum'] = 0\n",
        "  X['InsolationE_6sum'] = 0\n",
        "  \n",
        "  for i in range(0, len(X)):\n",
        "    X['InsolationA_sum'].iloc[i] = X['InsolationA_change'].iloc[i-17:i+1].sum()\n",
        "    X['InsolationE_sum'].iloc[i] = X['InsolationE_change'].iloc[i-17:i+1].sum()\n",
        "  for i in range(0, len(X)):\n",
        "    X['InsolationA_12sum'].iloc[i] = X['InsolationA_change'].iloc[i-23:i+1].sum()\n",
        "    X['InsolationE_12sum'].iloc[i] = X['InsolationE_change'].iloc[i-23:i+1].sum()\n",
        "  for i in range(0, len(X)):\n",
        "    X['InsolationA_6sum'].iloc[i] = X['InsolationA_change'].iloc[i-5:i+1].sum()\n",
        "    X['InsolationE_6sum'].iloc[i] = X['InsolationE_change'].iloc[i-5:i+1].sum()"
      ],
      "execution_count": 0,
      "outputs": []
    },
    {
      "cell_type": "code",
      "metadata": {
        "id": "m-mLly0q4dP9",
        "colab_type": "code",
        "outputId": "9a02fcb0-15c9-4342-c40e-31ef98d59a4b",
        "colab": {
          "base_uri": "https://localhost:8080/",
          "height": 106
        }
      },
      "source": [
        "Insolation_sum(train)"
      ],
      "execution_count": 25,
      "outputs": [
        {
          "output_type": "stream",
          "text": [
            "/usr/local/lib/python3.6/dist-packages/pandas/core/indexing.py:671: SettingWithCopyWarning: \n",
            "A value is trying to be set on a copy of a slice from a DataFrame\n",
            "\n",
            "See the caveats in the documentation: https://pandas.pydata.org/pandas-docs/stable/user_guide/indexing.html#returning-a-view-versus-a-copy\n",
            "  self._setitem_with_indexer(indexer, value)\n"
          ],
          "name": "stderr"
        }
      ]
    },
    {
      "cell_type": "code",
      "metadata": {
        "id": "xLyjTYpc4oeI",
        "colab_type": "code",
        "colab": {}
      },
      "source": [
        "def del_direction (X):\n",
        "  del X['DirectionA'], X['DirectionB'],X['DirectionC'],X['DirectionD'],X['DirectionE']"
      ],
      "execution_count": 0,
      "outputs": []
    },
    {
      "cell_type": "code",
      "metadata": {
        "id": "haMwXLKV4r4x",
        "colab_type": "code",
        "colab": {}
      },
      "source": [
        "del_direction(train)"
      ],
      "execution_count": 0,
      "outputs": []
    },
    {
      "cell_type": "code",
      "metadata": {
        "id": "lLJv0suT4swT",
        "colab_type": "code",
        "colab": {}
      },
      "source": [
        "def Precipitation_True(X): \n",
        "  X['PrecipitationB_True'] = 0 \n",
        "  X['PrecipitationC_True'] = 0 \n",
        "  X['PrecipitationE_True'] = 0 \n",
        "  for i in range (0, len(X)):\n",
        "    if X['PrecipitationB'].iloc[i] > 0 :\n",
        "      X['PrecipitationB_True'].iloc[i] = 1\n",
        "    if X['PrecipitationC'].iloc[i] > 0 :\n",
        "      X['PrecipitationC_True'].iloc[i] = 1\n",
        "    if X['PrecipitationE'].iloc[i] > 0 :\n",
        "      X['PrecipitationE_True'].iloc[i] = 1\n",
        "\n",
        "  X['PrecipitationB_True_sum'] = 0\n",
        "  X['PrecipitationC_True_sum'] = 0\n",
        "  X['PrecipitationE_True_sum'] = 0\n",
        "  \n",
        "  for i in range(0, len(X)):\n",
        "    if X['PrecipitationB_True'].iloc[i] > 0 :\n",
        "      X['PrecipitationB_True_sum'].iloc[i] = X['PrecipitationB_True_sum'].iloc[i-1]+0.1\n",
        "    elif X['PrecipitationB_True'].iloc[i] == 0 : \n",
        "      X['PrecipitationB_True_sum'].iloc[i] = 0\n",
        "    if X['PrecipitationC_True'].iloc[i] > 0 :\n",
        "      X['PrecipitationC_True_sum'].iloc[i] = X['PrecipitationC_True_sum'].iloc[i-1]+0.1\n",
        "    elif X['PrecipitationC_True'].iloc[i] == 0 : \n",
        "      X['PrecipitationC_True_sum'].iloc[i] = 0\n",
        "    if X['PrecipitationE_True'].iloc[i] > 0 :\n",
        "      X['PrecipitationE_True_sum'].iloc[i] = X['PrecipitationE_True_sum'].iloc[i-1]+0.1\n",
        "    elif X['PrecipitationE_True'].iloc[i] == 0 : \n",
        "      X['PrecipitationE_True_sum'].iloc[i] = 0"
      ],
      "execution_count": 0,
      "outputs": []
    },
    {
      "cell_type": "code",
      "metadata": {
        "id": "clSNHSxz4uZ_",
        "colab_type": "code",
        "colab": {}
      },
      "source": [
        "# Precipitation_True(train)"
      ],
      "execution_count": 0,
      "outputs": []
    },
    {
      "cell_type": "code",
      "metadata": {
        "id": "1ep2QdCr4vE-",
        "colab_type": "code",
        "colab": {}
      },
      "source": [
        "def temp_yesterday (X):\n",
        "  X['TempA_yesterday'] = 0\n",
        "  X['TempB_yesterday'] = 0\n",
        "  X['TempC_yesterday'] = 0\n",
        "  X['TempD_yesterday'] = 0\n",
        "  X['TempE_yesterday'] = 0\n",
        "\n",
        "  for i in range(0, 144):\n",
        "    X['TempA_yesterday'].iloc[i] = X['TempA'].iloc[i]\n",
        "    X['TempB_yesterday'].iloc[i] = X['TempB'].iloc[i]\n",
        "    X['TempC_yesterday'].iloc[i] = X['TempC'].iloc[i]\n",
        "    X['TempD_yesterday'].iloc[i] = X['TempD'].iloc[i]\n",
        "    X['TempE_yesterday'].iloc[i] = X['TempE'].iloc[i]\n",
        "\n",
        "  for i in range(144, len(X)):\n",
        "    X['TempA_yesterday'].iloc[i] = X['TempA'].iloc[i-144]\n",
        "    X['TempB_yesterday'].iloc[i] = X['TempB'].iloc[i-144]\n",
        "    X['TempC_yesterday'].iloc[i] = X['TempC'].iloc[i-144]\n",
        "    X['TempD_yesterday'].iloc[i] = X['TempD'].iloc[i-144]\n",
        "    X['TempE_yesterday'].iloc[i] = X['TempE'].iloc[i-144]"
      ],
      "execution_count": 0,
      "outputs": []
    },
    {
      "cell_type": "code",
      "metadata": {
        "id": "fhX0OiYB4v7B",
        "colab_type": "code",
        "colab": {}
      },
      "source": [
        "temp_yesterday(train)"
      ],
      "execution_count": 0,
      "outputs": []
    },
    {
      "cell_type": "code",
      "metadata": {
        "id": "1V-QRFbR4xDJ",
        "colab_type": "code",
        "colab": {}
      },
      "source": [
        "def del_Precipitation(X):\n",
        "  del X['PrecipitationB'], X['PrecipitationC'], X['PrecipitationE'] "
      ],
      "execution_count": 0,
      "outputs": []
    },
    {
      "cell_type": "code",
      "metadata": {
        "id": "eW5rjEMh4yRb",
        "colab_type": "code",
        "colab": {}
      },
      "source": [
        "del_Precipitation(train)"
      ],
      "execution_count": 0,
      "outputs": []
    },
    {
      "cell_type": "code",
      "metadata": {
        "id": "lyV6_-X14zMS",
        "colab_type": "code",
        "colab": {}
      },
      "source": [
        "X_train = train.loc[:,'AtmA']\n",
        "\n",
        "MEAN = X_train.mean()\n",
        "STD = X_train.std()\n",
        "\n",
        "X_train = (X_train - MEAN) / (STD + 1e-07)\n",
        "train.loc[:,\"AtmA\"] = X_train"
      ],
      "execution_count": 0,
      "outputs": []
    },
    {
      "cell_type": "code",
      "metadata": {
        "id": "m3v4EkLW5GFW",
        "colab_type": "code",
        "colab": {}
      },
      "source": [
        "def del_Wind(X):\n",
        "  del X['WindA'],X['WindB'],X['WindC'],X['WindD'],X['WindE']"
      ],
      "execution_count": 0,
      "outputs": []
    },
    {
      "cell_type": "code",
      "metadata": {
        "id": "Dy9z1WAo5P5V",
        "colab_type": "code",
        "colab": {}
      },
      "source": [
        "# del_Wind(train)"
      ],
      "execution_count": 0,
      "outputs": []
    },
    {
      "cell_type": "code",
      "metadata": {
        "id": "p1pqzpzq5SQs",
        "colab_type": "code",
        "colab": {}
      },
      "source": [
        "def del_press (X):\n",
        "  del X['AtmB'],X['AtmC'],X['AtmD'],X['AtmE']\n",
        "  del X['Sea_pressA'], X['Sea_pressB'],X['Sea_pressC'],X['Sea_pressD'],X['Sea_pressE']"
      ],
      "execution_count": 0,
      "outputs": []
    },
    {
      "cell_type": "code",
      "metadata": {
        "id": "jHKHfW9s5TuO",
        "colab_type": "code",
        "colab": {}
      },
      "source": [
        "del_press(train)"
      ],
      "execution_count": 0,
      "outputs": []
    },
    {
      "cell_type": "code",
      "metadata": {
        "id": "6FGMZshl5Um9",
        "colab_type": "code",
        "colab": {}
      },
      "source": [
        "def time(X):\n",
        "  X['Time_sin'] = 0\n",
        "  X['Time_cos'] = 0 \n",
        "\n",
        "  minute = (X.index%144).astype(int)\n",
        "  hour = pd.Series((X.index%144/6).astype(int))\n",
        "  min_in_day = 24*6\n",
        "  hour_in_day = 24\n",
        "\n",
        "  minute_sin = np.sin(np.pi*minute/min_in_day)\n",
        "  minute_cos = np.cos(np.pi*minute/min_in_day)\n",
        "\n",
        "  hour_sin = np.sin(np.pi*hour / hour_in_day)\n",
        "  hour_cos = np.cos(np.pi*hour/hour_in_day)\n",
        "  \n",
        "  X['Time_sin'] = hour_sin\n",
        "  X['Time_cos'] = hour_cos"
      ],
      "execution_count": 0,
      "outputs": []
    },
    {
      "cell_type": "code",
      "metadata": {
        "id": "vYbtWNaB5VvQ",
        "colab_type": "code",
        "colab": {}
      },
      "source": [
        "time(train)"
      ],
      "execution_count": 0,
      "outputs": []
    },
    {
      "cell_type": "code",
      "metadata": {
        "id": "ZlUQ1Mbr5WrI",
        "colab_type": "code",
        "colab": {}
      },
      "source": [
        "def avg_temp(X):\n",
        "  X['Avg_temp'] = 0\n",
        "  for i in range(0, len(X)):\n",
        "    # X['Avg_temp'].iloc[i] = (X['TempA'].iloc[i] + X['TempB'].iloc[i] + X['TempC'].iloc[i] + X['TempD'].iloc[i] + X['TempE'].iloc[i])/5\n",
        "    X['Avg_temp'] = (X['TempB']+X['TempC'].iloc[i])/2"
      ],
      "execution_count": 0,
      "outputs": []
    },
    {
      "cell_type": "code",
      "metadata": {
        "id": "wKwICWPz5XuV",
        "colab_type": "code",
        "colab": {}
      },
      "source": [
        "avg_temp(train)"
      ],
      "execution_count": 0,
      "outputs": []
    },
    {
      "cell_type": "code",
      "metadata": {
        "id": "y_W3GLKo5Y-8",
        "colab_type": "code",
        "colab": {}
      },
      "source": [
        "def decrease_Insolation(X):\n",
        "  X['Decrease_InsolationA'] = 0 \n",
        "  X['Decrease_InsolationE'] = 0 \n",
        "  for i in range(0,len(X)):\n",
        "    X['Decrease_InsolationA'].iloc[i] = X['InsolationA_change'].iloc[i]-X['InsolationA_change'].iloc[i-1]\n",
        "    X['Decrease_InsolationE'].iloc[i] = X['InsolationE_change'].iloc[i]-X['InsolationE_change'].iloc[i-1]\n",
        "    if i %144 == 0 :\n",
        "      X['Decrease_InsolationA'].iloc[i] = 0 \n",
        "      X['Decrease_InsolationE'].iloc[i] = 0 "
      ],
      "execution_count": 0,
      "outputs": []
    },
    {
      "cell_type": "code",
      "metadata": {
        "id": "ahoFHf2v5a5N",
        "colab_type": "code",
        "outputId": "5be8a7c2-e8b2-488b-ce48-a2470772f45c",
        "colab": {
          "base_uri": "https://localhost:8080/",
          "height": 106
        }
      },
      "source": [
        "decrease_Insolation(train)"
      ],
      "execution_count": 44,
      "outputs": [
        {
          "output_type": "stream",
          "text": [
            "/usr/local/lib/python3.6/dist-packages/pandas/core/indexing.py:671: SettingWithCopyWarning: \n",
            "A value is trying to be set on a copy of a slice from a DataFrame\n",
            "\n",
            "See the caveats in the documentation: https://pandas.pydata.org/pandas-docs/stable/user_guide/indexing.html#returning-a-view-versus-a-copy\n",
            "  self._setitem_with_indexer(indexer, value)\n"
          ],
          "name": "stderr"
        }
      ]
    },
    {
      "cell_type": "code",
      "metadata": {
        "id": "Aw6wA-nr5b0W",
        "colab_type": "code",
        "colab": {}
      },
      "source": [
        "def del_Insolation(X):\n",
        "  del X['InsolationA'], X['InsolationE']"
      ],
      "execution_count": 0,
      "outputs": []
    },
    {
      "cell_type": "code",
      "metadata": {
        "id": "lZ41L4AP5dmY",
        "colab_type": "code",
        "colab": {}
      },
      "source": [
        "del_Insolation(train)"
      ],
      "execution_count": 0,
      "outputs": []
    },
    {
      "cell_type": "code",
      "metadata": {
        "id": "KPD3FU_Opv9W",
        "colab_type": "code",
        "colab": {}
      },
      "source": [
        "def max_temp(X):\n",
        "  X['Max_temp'] = 0\n",
        "  for i in range(0, len(X)):\n",
        "    X['Max_temp'].iloc[i] = max(X['TempA'].iloc[i], X['TempB'].iloc[i], X['TempC'].iloc[i], X['TempD'].iloc[i], X['TempE'].iloc[i])\n",
        "\n",
        "def min_temp(X):\n",
        "  X['Min_temp'] = 0\n",
        "  for i in range(0, len(X)):\n",
        "    X['Min_temp'].iloc[i] = min(X['TempA'].iloc[i], X['TempB'].iloc[i], X['TempC'].iloc[i], X['TempD'].iloc[i], X['TempE'].iloc[i])\n",
        "\n",
        "def max_humidity(X):\n",
        "  X['Max_humidity'] = 0\n",
        "  for i in range(0, len(X)):\n",
        "    X['Max_humidity'].iloc[i] = max(X['HumidityA'].iloc[i],X['HumidityB'].iloc[i],X['HumidityC'].iloc[i],X['HumidityD'].iloc[i],X['HumidityE'].iloc[i])\n",
        "\n",
        "def min_humidity(X):\n",
        "  X['Min_humidity'] = 0\n",
        "  for i in range(0, len(X)):\n",
        "    X['Min_humidity'].iloc[i] = min(X['HumidityA'].iloc[i],X['HumidityB'].iloc[i],X['HumidityC'].iloc[i],X['HumidityD'].iloc[i],X['HumidityE'].iloc[i])\n",
        "\n",
        "def avg_humidity(X):\n",
        "  X['Avg_humidity'] = 0 \n",
        "  for i in range(0, len(X)):\n",
        "    X['Avg_humidity'].iloc[i] = (X['HumidityA'].iloc[i]+X['HumidityB'].iloc[i]+X['HumidityC'].iloc[i]+X['HumidityD'].iloc[i]+X['HumidityE'].iloc[i])/5.0"
      ],
      "execution_count": 0,
      "outputs": []
    },
    {
      "cell_type": "code",
      "metadata": {
        "id": "IBb5gjYGqfpE",
        "colab_type": "code",
        "colab": {}
      },
      "source": [
        "# max_temp(train)\n",
        "# min_temp(train)\n",
        "# max_humidity(train)\n",
        "# min_humidity(train)\n",
        "# avg_humidity(train)"
      ],
      "execution_count": 0,
      "outputs": []
    },
    {
      "cell_type": "code",
      "metadata": {
        "id": "NI-cr0syCjpb",
        "colab_type": "code",
        "colab": {}
      },
      "source": [
        "def precipitation(X):\n",
        "  for i in ['B','C','E']:\n",
        "    del X['Precipitation%s_change'%i], X['Precipitation%s_increase'%i]"
      ],
      "execution_count": 0,
      "outputs": []
    },
    {
      "cell_type": "code",
      "metadata": {
        "id": "qfUHZH3CCkh8",
        "colab_type": "code",
        "colab": {}
      },
      "source": [
        "# precipitation(train)"
      ],
      "execution_count": 0,
      "outputs": []
    },
    {
      "cell_type": "code",
      "metadata": {
        "id": "eyjJfRX3niJc",
        "colab_type": "code",
        "colab": {}
      },
      "source": [
        "def max_Insolation(X):\n",
        "  X['Max_Insolation'] = 0\n",
        "  for i in range(0,len(X)):\n",
        "    X['Max_Insolation'].iloc[i] = max(X['InsolationA_change'].iloc[i], X['InsolationE_change'].iloc[i])\n",
        "  \n",
        "  X['Max_Insolation_sum'] = 0\n",
        "  for i in range(0, len(X)):\n",
        "    X['Max_Insolation_sum'].iloc[i] = X['Max_Insolation'].iloc[i-11:i+1].sum()"
      ],
      "execution_count": 0,
      "outputs": []
    },
    {
      "cell_type": "code",
      "metadata": {
        "id": "0SiD8mt7n6-f",
        "colab_type": "code",
        "outputId": "014ff173-6afb-4db8-e2a8-0aa59b7aaf47",
        "colab": {
          "base_uri": "https://localhost:8080/",
          "height": 106
        }
      },
      "source": [
        "max_Insolation(train)"
      ],
      "execution_count": 55,
      "outputs": [
        {
          "output_type": "stream",
          "text": [
            "/usr/local/lib/python3.6/dist-packages/pandas/core/indexing.py:671: SettingWithCopyWarning: \n",
            "A value is trying to be set on a copy of a slice from a DataFrame\n",
            "\n",
            "See the caveats in the documentation: https://pandas.pydata.org/pandas-docs/stable/user_guide/indexing.html#returning-a-view-versus-a-copy\n",
            "  self._setitem_with_indexer(indexer, value)\n"
          ],
          "name": "stderr"
        }
      ]
    },
    {
      "cell_type": "code",
      "metadata": {
        "id": "qIF4kgvDqrmV",
        "colab_type": "code",
        "colab": {}
      },
      "source": [
        "del train['AtmA'] "
      ],
      "execution_count": 0,
      "outputs": []
    },
    {
      "cell_type": "code",
      "metadata": {
        "id": "o00gho09RqWQ",
        "colab_type": "code",
        "colab": {}
      },
      "source": [
        "def Time_Insolation(X):\n",
        "  TI = pd.DataFrame(index = range(0,int(len(X)/144)), columns = ['Min', 'Max'])\n",
        "  X['Time_Insolation'] = 0\n",
        "  for i in range(0,len(X)):\n",
        "    if X['InsolationA_change'].iloc[i]>0:\n",
        "      X['Time_Insolation'].iloc[i] = 1\n",
        "  \n",
        "  for i in range(0,len(X)):\n",
        "    for j in range(0,int(len(X)/144)):\n",
        "      if int(X.index[i]/144) == j:\n",
        "        if X['Time_Insolation'].iloc[i]>0:\n",
        "          TI['Max'].iloc[j] = i\n",
        "  for i in range(0,int(len(X)/144)):\n",
        "    for j in range(144*i, 144*i+144):\n",
        "      if X['Time_Insolation'].iloc[j]>0:\n",
        "        TI['Min'].iloc[i] = j\n",
        "        break\n",
        "\n",
        "  TI['gap'] = TI['Max'] - TI['Min'] \n",
        "\n",
        "  X['Time_Insolation_new'] = 0\n",
        "  for i in range(0,int(len(X)/144)):\n",
        "    for j in range(TI['Min'].iloc[i],TI['Max'].iloc[i]):\n",
        "      X['Time_Insolation_new'].iloc[j] = 1/TI['gap'].iloc[i]\n",
        "    \n",
        "    for j in range(TI['Min'].iloc[i],TI['Max'].iloc[i]-int(TI['gap'].iloc[i]/2)):\n",
        "      X['Time_Insolation_new'].iloc[j] = X['Time_Insolation_new'].iloc[j]+X['Time_Insolation_new'].iloc[j-1]\n",
        "    \n",
        "    for j in range(TI['Max'].iloc[i]-int(TI['gap'].iloc[i]/2),TI['Max'].iloc[i]):\n",
        "      X['Time_Insolation_new'].iloc[j] = X['Time_Insolation_new'].iloc[j-1] - 1/TI['gap'].iloc[i]\n",
        "\n",
        "  X['TI_Accumulate'] = 0\n",
        "  for i in range(0, int(len(X)/144)):\n",
        "    for j in range(TI['Min'].iloc[i], TI['Max'].iloc[i]):\n",
        "      X['TI_Accumulate'].iloc[j] = (X['TI_Accumulate'].iloc[j-1] + X['Time_Insolation_new'].iloc[j])/ (j+40-TI['Min'].iloc[i])\n",
        "\n",
        "  X['Reverse_TI'] = 0\n",
        "  for i in range(0, int(len(X)/144)):\n",
        "    for j in range(TI['Min'].iloc[i], TI['Max'].iloc[i]):\n",
        "      X['Reverse_TI'].iloc[j] = X['TI_Accumulate'].iloc[TI['Max'].iloc[i]-j]"
      ],
      "execution_count": 0,
      "outputs": []
    },
    {
      "cell_type": "code",
      "metadata": {
        "id": "-OAUAynERrR4",
        "colab_type": "code",
        "colab": {}
      },
      "source": [
        "# Time_Insolation(train)"
      ],
      "execution_count": 0,
      "outputs": []
    },
    {
      "cell_type": "code",
      "metadata": {
        "id": "_e77GDhfsogP",
        "colab_type": "code",
        "colab": {}
      },
      "source": [
        "def del_temp(X):\n",
        "  for i in ['A','B','C','D','E']:\n",
        "    del X['Temp%s'%i]\n",
        "    del X['Temp%s_increase'%i]"
      ],
      "execution_count": 0,
      "outputs": []
    },
    {
      "cell_type": "code",
      "metadata": {
        "id": "lYOkEyONcb83",
        "colab_type": "code",
        "colab": {}
      },
      "source": [
        "del_temp(train)"
      ],
      "execution_count": 0,
      "outputs": []
    },
    {
      "cell_type": "code",
      "metadata": {
        "id": "b1TmJARydOJj",
        "colab_type": "code",
        "colab": {}
      },
      "source": [
        "def temp_increase2 (X):\n",
        "  X['Temp_increase'] = 0\n",
        "\n",
        "  for j in range(0, len(X)):\n",
        "    X['Temp_increase'].iloc[j] = X['Avg_temp'].iloc[j] - X['Avg_temp'].iloc[j-1]\n",
        "    \n",
        "    X['Temp_increase'].iloc[0] = 0\n"
      ],
      "execution_count": 0,
      "outputs": []
    },
    {
      "cell_type": "code",
      "metadata": {
        "id": "h_DIMynidAzZ",
        "colab_type": "code",
        "outputId": "3920a54b-997e-4002-9d3b-749a498a2bdf",
        "colab": {
          "base_uri": "https://localhost:8080/",
          "height": 106
        }
      },
      "source": [
        "temp_increase2(train)"
      ],
      "execution_count": 62,
      "outputs": [
        {
          "output_type": "stream",
          "text": [
            "/usr/local/lib/python3.6/dist-packages/pandas/core/indexing.py:671: SettingWithCopyWarning: \n",
            "A value is trying to be set on a copy of a slice from a DataFrame\n",
            "\n",
            "See the caveats in the documentation: https://pandas.pydata.org/pandas-docs/stable/user_guide/indexing.html#returning-a-view-versus-a-copy\n",
            "  self._setitem_with_indexer(indexer, value)\n"
          ],
          "name": "stderr"
        }
      ]
    },
    {
      "cell_type": "code",
      "metadata": {
        "id": "xAkkY2SxfXJf",
        "colab_type": "code",
        "colab": {}
      },
      "source": [
        "def del_humidity(X):\n",
        "  for i in ['A','C','D']:\n",
        "    del X['Humidity%s'%i]\n",
        "    del X['Humidity%s_increase'%i]"
      ],
      "execution_count": 0,
      "outputs": []
    },
    {
      "cell_type": "code",
      "metadata": {
        "id": "3-8pO1BjhOM1",
        "colab_type": "code",
        "colab": {}
      },
      "source": [
        "# del_humidity(train)"
      ],
      "execution_count": 0,
      "outputs": []
    },
    {
      "cell_type": "code",
      "metadata": {
        "id": "gOho7zdDoGFl",
        "colab_type": "code",
        "colab": {}
      },
      "source": [
        "def no_insolation(X):\n",
        "  X['No_insolation'] = 0 \n",
        "  for i in range(0,len(X)):\n",
        "    if X['InsolationA_6sum'].iloc[i] == 0:\n",
        "      X['No_insolation'].iloc[i] = 1.5"
      ],
      "execution_count": 0,
      "outputs": []
    },
    {
      "cell_type": "code",
      "metadata": {
        "id": "63HvPseXocls",
        "colab_type": "code",
        "outputId": "0cd7f4f6-4f5c-49e8-c4e7-0ac57914f9ec",
        "colab": {
          "base_uri": "https://localhost:8080/",
          "height": 106
        }
      },
      "source": [
        "no_insolation(train)"
      ],
      "execution_count": 66,
      "outputs": [
        {
          "output_type": "stream",
          "text": [
            "/usr/local/lib/python3.6/dist-packages/pandas/core/indexing.py:671: SettingWithCopyWarning: \n",
            "A value is trying to be set on a copy of a slice from a DataFrame\n",
            "\n",
            "See the caveats in the documentation: https://pandas.pydata.org/pandas-docs/stable/user_guide/indexing.html#returning-a-view-versus-a-copy\n",
            "  self._setitem_with_indexer(indexer, value)\n"
          ],
          "name": "stderr"
        }
      ]
    },
    {
      "cell_type": "code",
      "metadata": {
        "id": "nJj6CNXyd9SV",
        "colab_type": "code",
        "outputId": "5af9954a-e905-42f3-8619-b09cffd6601c",
        "colab": {
          "base_uri": "https://localhost:8080/",
          "height": 448
        }
      },
      "source": [
        "train = train.sort_index(axis = 1)\n",
        "train"
      ],
      "execution_count": 67,
      "outputs": [
        {
          "output_type": "execute_result",
          "data": {
            "text/html": [
              "<div>\n",
              "<style scoped>\n",
              "    .dataframe tbody tr th:only-of-type {\n",
              "        vertical-align: middle;\n",
              "    }\n",
              "\n",
              "    .dataframe tbody tr th {\n",
              "        vertical-align: top;\n",
              "    }\n",
              "\n",
              "    .dataframe thead th {\n",
              "        text-align: right;\n",
              "    }\n",
              "</style>\n",
              "<table border=\"1\" class=\"dataframe\">\n",
              "  <thead>\n",
              "    <tr style=\"text-align: right;\">\n",
              "      <th></th>\n",
              "      <th>Avg_temp</th>\n",
              "      <th>Decrease_InsolationA</th>\n",
              "      <th>Decrease_InsolationE</th>\n",
              "      <th>HumidityA</th>\n",
              "      <th>HumidityA_increase</th>\n",
              "      <th>HumidityB</th>\n",
              "      <th>HumidityB_increase</th>\n",
              "      <th>HumidityC</th>\n",
              "      <th>HumidityC_increase</th>\n",
              "      <th>HumidityD</th>\n",
              "      <th>HumidityD_increase</th>\n",
              "      <th>HumidityE</th>\n",
              "      <th>HumidityE_increase</th>\n",
              "      <th>InsolationA_12sum</th>\n",
              "      <th>InsolationA_6sum</th>\n",
              "      <th>InsolationA_change</th>\n",
              "      <th>InsolationA_sum</th>\n",
              "      <th>InsolationE_12sum</th>\n",
              "      <th>InsolationE_6sum</th>\n",
              "      <th>InsolationE_change</th>\n",
              "      <th>InsolationE_sum</th>\n",
              "      <th>Max_Insolation</th>\n",
              "      <th>Max_Insolation_sum</th>\n",
              "      <th>No_insolation</th>\n",
              "      <th>Temp_increase</th>\n",
              "      <th>Time_cos</th>\n",
              "      <th>Time_sin</th>\n",
              "      <th>WindA</th>\n",
              "      <th>WindB</th>\n",
              "      <th>WindC</th>\n",
              "      <th>WindD</th>\n",
              "      <th>WindE</th>\n",
              "      <th>Y00</th>\n",
              "      <th>Y01</th>\n",
              "      <th>Y02</th>\n",
              "      <th>Y03</th>\n",
              "      <th>Y04</th>\n",
              "      <th>Y05</th>\n",
              "      <th>Y06</th>\n",
              "      <th>Y07</th>\n",
              "      <th>Y08</th>\n",
              "      <th>Y09</th>\n",
              "      <th>Y10</th>\n",
              "      <th>Y11</th>\n",
              "      <th>Y12</th>\n",
              "      <th>Y13</th>\n",
              "      <th>Y14</th>\n",
              "      <th>Y15</th>\n",
              "      <th>Y16</th>\n",
              "      <th>Y17</th>\n",
              "      <th>Y18</th>\n",
              "    </tr>\n",
              "    <tr>\n",
              "      <th>id</th>\n",
              "      <th></th>\n",
              "      <th></th>\n",
              "      <th></th>\n",
              "      <th></th>\n",
              "      <th></th>\n",
              "      <th></th>\n",
              "      <th></th>\n",
              "      <th></th>\n",
              "      <th></th>\n",
              "      <th></th>\n",
              "      <th></th>\n",
              "      <th></th>\n",
              "      <th></th>\n",
              "      <th></th>\n",
              "      <th></th>\n",
              "      <th></th>\n",
              "      <th></th>\n",
              "      <th></th>\n",
              "      <th></th>\n",
              "      <th></th>\n",
              "      <th></th>\n",
              "      <th></th>\n",
              "      <th></th>\n",
              "      <th></th>\n",
              "      <th></th>\n",
              "      <th></th>\n",
              "      <th></th>\n",
              "      <th></th>\n",
              "      <th></th>\n",
              "      <th></th>\n",
              "      <th></th>\n",
              "      <th></th>\n",
              "      <th></th>\n",
              "      <th></th>\n",
              "      <th></th>\n",
              "      <th></th>\n",
              "      <th></th>\n",
              "      <th></th>\n",
              "      <th></th>\n",
              "      <th></th>\n",
              "      <th></th>\n",
              "      <th></th>\n",
              "      <th></th>\n",
              "      <th></th>\n",
              "      <th></th>\n",
              "      <th></th>\n",
              "      <th></th>\n",
              "      <th></th>\n",
              "      <th></th>\n",
              "      <th></th>\n",
              "      <th></th>\n",
              "    </tr>\n",
              "  </thead>\n",
              "  <tbody>\n",
              "    <tr>\n",
              "      <th>0</th>\n",
              "      <td>17.70</td>\n",
              "      <td>0.0</td>\n",
              "      <td>0.0</td>\n",
              "      <td>82.4</td>\n",
              "      <td>0.0</td>\n",
              "      <td>91.0</td>\n",
              "      <td>0.0</td>\n",
              "      <td>69.1</td>\n",
              "      <td>0.0</td>\n",
              "      <td>77.2</td>\n",
              "      <td>0.0</td>\n",
              "      <td>62.6</td>\n",
              "      <td>0.0</td>\n",
              "      <td>0.00</td>\n",
              "      <td>0.0</td>\n",
              "      <td>0.0</td>\n",
              "      <td>0.00</td>\n",
              "      <td>0.00</td>\n",
              "      <td>0.0</td>\n",
              "      <td>0.0</td>\n",
              "      <td>0.0</td>\n",
              "      <td>0.0</td>\n",
              "      <td>0.0</td>\n",
              "      <td>1.5</td>\n",
              "      <td>0.00</td>\n",
              "      <td>1.000000</td>\n",
              "      <td>0.000000</td>\n",
              "      <td>1.2</td>\n",
              "      <td>0.6</td>\n",
              "      <td>0.3</td>\n",
              "      <td>1.1</td>\n",
              "      <td>0.5</td>\n",
              "      <td>12.5</td>\n",
              "      <td>11.5</td>\n",
              "      <td>11.0</td>\n",
              "      <td>20.0</td>\n",
              "      <td>20.0</td>\n",
              "      <td>10.5</td>\n",
              "      <td>10.0</td>\n",
              "      <td>10.5</td>\n",
              "      <td>10.0</td>\n",
              "      <td>7.0</td>\n",
              "      <td>7.5</td>\n",
              "      <td>7.0</td>\n",
              "      <td>9.0</td>\n",
              "      <td>10.0</td>\n",
              "      <td>9.5</td>\n",
              "      <td>9.0</td>\n",
              "      <td>8.0</td>\n",
              "      <td>9.0</td>\n",
              "      <td>NaN</td>\n",
              "    </tr>\n",
              "    <tr>\n",
              "      <th>1</th>\n",
              "      <td>17.65</td>\n",
              "      <td>0.0</td>\n",
              "      <td>0.0</td>\n",
              "      <td>81.2</td>\n",
              "      <td>-1.2</td>\n",
              "      <td>91.9</td>\n",
              "      <td>0.9</td>\n",
              "      <td>70.3</td>\n",
              "      <td>1.2</td>\n",
              "      <td>77.3</td>\n",
              "      <td>0.1</td>\n",
              "      <td>63.5</td>\n",
              "      <td>0.9</td>\n",
              "      <td>0.00</td>\n",
              "      <td>0.0</td>\n",
              "      <td>0.0</td>\n",
              "      <td>0.00</td>\n",
              "      <td>0.00</td>\n",
              "      <td>0.0</td>\n",
              "      <td>0.0</td>\n",
              "      <td>0.0</td>\n",
              "      <td>0.0</td>\n",
              "      <td>0.0</td>\n",
              "      <td>1.5</td>\n",
              "      <td>-0.05</td>\n",
              "      <td>1.000000</td>\n",
              "      <td>0.000000</td>\n",
              "      <td>1.7</td>\n",
              "      <td>1.9</td>\n",
              "      <td>0.4</td>\n",
              "      <td>0.0</td>\n",
              "      <td>0.0</td>\n",
              "      <td>12.5</td>\n",
              "      <td>11.0</td>\n",
              "      <td>11.0</td>\n",
              "      <td>20.0</td>\n",
              "      <td>20.0</td>\n",
              "      <td>10.0</td>\n",
              "      <td>9.5</td>\n",
              "      <td>10.0</td>\n",
              "      <td>9.5</td>\n",
              "      <td>6.5</td>\n",
              "      <td>7.5</td>\n",
              "      <td>7.0</td>\n",
              "      <td>8.5</td>\n",
              "      <td>10.0</td>\n",
              "      <td>9.5</td>\n",
              "      <td>9.0</td>\n",
              "      <td>7.5</td>\n",
              "      <td>9.0</td>\n",
              "      <td>NaN</td>\n",
              "    </tr>\n",
              "    <tr>\n",
              "      <th>2</th>\n",
              "      <td>17.65</td>\n",
              "      <td>0.0</td>\n",
              "      <td>0.0</td>\n",
              "      <td>86.1</td>\n",
              "      <td>4.9</td>\n",
              "      <td>93.3</td>\n",
              "      <td>1.4</td>\n",
              "      <td>71.5</td>\n",
              "      <td>1.2</td>\n",
              "      <td>77.3</td>\n",
              "      <td>0.0</td>\n",
              "      <td>63.9</td>\n",
              "      <td>0.4</td>\n",
              "      <td>0.00</td>\n",
              "      <td>0.0</td>\n",
              "      <td>0.0</td>\n",
              "      <td>0.00</td>\n",
              "      <td>0.00</td>\n",
              "      <td>0.0</td>\n",
              "      <td>0.0</td>\n",
              "      <td>0.0</td>\n",
              "      <td>0.0</td>\n",
              "      <td>0.0</td>\n",
              "      <td>1.5</td>\n",
              "      <td>0.00</td>\n",
              "      <td>1.000000</td>\n",
              "      <td>0.000000</td>\n",
              "      <td>1.1</td>\n",
              "      <td>2.3</td>\n",
              "      <td>0.6</td>\n",
              "      <td>0.0</td>\n",
              "      <td>0.0</td>\n",
              "      <td>12.0</td>\n",
              "      <td>11.0</td>\n",
              "      <td>11.0</td>\n",
              "      <td>19.5</td>\n",
              "      <td>19.5</td>\n",
              "      <td>10.0</td>\n",
              "      <td>9.0</td>\n",
              "      <td>10.0</td>\n",
              "      <td>9.0</td>\n",
              "      <td>6.5</td>\n",
              "      <td>7.5</td>\n",
              "      <td>6.5</td>\n",
              "      <td>8.0</td>\n",
              "      <td>9.5</td>\n",
              "      <td>9.5</td>\n",
              "      <td>8.5</td>\n",
              "      <td>7.5</td>\n",
              "      <td>8.5</td>\n",
              "      <td>NaN</td>\n",
              "    </tr>\n",
              "    <tr>\n",
              "      <th>3</th>\n",
              "      <td>17.60</td>\n",
              "      <td>0.0</td>\n",
              "      <td>0.0</td>\n",
              "      <td>87.7</td>\n",
              "      <td>1.6</td>\n",
              "      <td>93.4</td>\n",
              "      <td>0.1</td>\n",
              "      <td>73.2</td>\n",
              "      <td>1.7</td>\n",
              "      <td>77.5</td>\n",
              "      <td>0.2</td>\n",
              "      <td>64.5</td>\n",
              "      <td>0.6</td>\n",
              "      <td>0.00</td>\n",
              "      <td>0.0</td>\n",
              "      <td>0.0</td>\n",
              "      <td>0.00</td>\n",
              "      <td>0.00</td>\n",
              "      <td>0.0</td>\n",
              "      <td>0.0</td>\n",
              "      <td>0.0</td>\n",
              "      <td>0.0</td>\n",
              "      <td>0.0</td>\n",
              "      <td>1.5</td>\n",
              "      <td>-0.05</td>\n",
              "      <td>1.000000</td>\n",
              "      <td>0.000000</td>\n",
              "      <td>1.5</td>\n",
              "      <td>0.7</td>\n",
              "      <td>0.1</td>\n",
              "      <td>0.0</td>\n",
              "      <td>0.2</td>\n",
              "      <td>12.0</td>\n",
              "      <td>11.0</td>\n",
              "      <td>11.0</td>\n",
              "      <td>19.5</td>\n",
              "      <td>19.5</td>\n",
              "      <td>9.5</td>\n",
              "      <td>9.0</td>\n",
              "      <td>9.5</td>\n",
              "      <td>9.0</td>\n",
              "      <td>6.0</td>\n",
              "      <td>7.0</td>\n",
              "      <td>6.0</td>\n",
              "      <td>8.0</td>\n",
              "      <td>9.5</td>\n",
              "      <td>9.0</td>\n",
              "      <td>8.5</td>\n",
              "      <td>7.5</td>\n",
              "      <td>8.5</td>\n",
              "      <td>NaN</td>\n",
              "    </tr>\n",
              "    <tr>\n",
              "      <th>4</th>\n",
              "      <td>17.60</td>\n",
              "      <td>0.0</td>\n",
              "      <td>0.0</td>\n",
              "      <td>88.9</td>\n",
              "      <td>1.2</td>\n",
              "      <td>94.1</td>\n",
              "      <td>0.7</td>\n",
              "      <td>74.3</td>\n",
              "      <td>1.1</td>\n",
              "      <td>78.0</td>\n",
              "      <td>0.5</td>\n",
              "      <td>65.0</td>\n",
              "      <td>0.5</td>\n",
              "      <td>0.00</td>\n",
              "      <td>0.0</td>\n",
              "      <td>0.0</td>\n",
              "      <td>0.00</td>\n",
              "      <td>0.00</td>\n",
              "      <td>0.0</td>\n",
              "      <td>0.0</td>\n",
              "      <td>0.0</td>\n",
              "      <td>0.0</td>\n",
              "      <td>0.0</td>\n",
              "      <td>1.5</td>\n",
              "      <td>0.00</td>\n",
              "      <td>1.000000</td>\n",
              "      <td>0.000000</td>\n",
              "      <td>0.8</td>\n",
              "      <td>1.7</td>\n",
              "      <td>0.0</td>\n",
              "      <td>0.0</td>\n",
              "      <td>0.0</td>\n",
              "      <td>12.0</td>\n",
              "      <td>10.5</td>\n",
              "      <td>10.5</td>\n",
              "      <td>19.0</td>\n",
              "      <td>19.5</td>\n",
              "      <td>9.5</td>\n",
              "      <td>8.5</td>\n",
              "      <td>9.5</td>\n",
              "      <td>8.5</td>\n",
              "      <td>6.0</td>\n",
              "      <td>7.0</td>\n",
              "      <td>6.0</td>\n",
              "      <td>7.5</td>\n",
              "      <td>9.5</td>\n",
              "      <td>9.0</td>\n",
              "      <td>8.5</td>\n",
              "      <td>7.5</td>\n",
              "      <td>8.5</td>\n",
              "      <td>NaN</td>\n",
              "    </tr>\n",
              "    <tr>\n",
              "      <th>...</th>\n",
              "      <td>...</td>\n",
              "      <td>...</td>\n",
              "      <td>...</td>\n",
              "      <td>...</td>\n",
              "      <td>...</td>\n",
              "      <td>...</td>\n",
              "      <td>...</td>\n",
              "      <td>...</td>\n",
              "      <td>...</td>\n",
              "      <td>...</td>\n",
              "      <td>...</td>\n",
              "      <td>...</td>\n",
              "      <td>...</td>\n",
              "      <td>...</td>\n",
              "      <td>...</td>\n",
              "      <td>...</td>\n",
              "      <td>...</td>\n",
              "      <td>...</td>\n",
              "      <td>...</td>\n",
              "      <td>...</td>\n",
              "      <td>...</td>\n",
              "      <td>...</td>\n",
              "      <td>...</td>\n",
              "      <td>...</td>\n",
              "      <td>...</td>\n",
              "      <td>...</td>\n",
              "      <td>...</td>\n",
              "      <td>...</td>\n",
              "      <td>...</td>\n",
              "      <td>...</td>\n",
              "      <td>...</td>\n",
              "      <td>...</td>\n",
              "      <td>...</td>\n",
              "      <td>...</td>\n",
              "      <td>...</td>\n",
              "      <td>...</td>\n",
              "      <td>...</td>\n",
              "      <td>...</td>\n",
              "      <td>...</td>\n",
              "      <td>...</td>\n",
              "      <td>...</td>\n",
              "      <td>...</td>\n",
              "      <td>...</td>\n",
              "      <td>...</td>\n",
              "      <td>...</td>\n",
              "      <td>...</td>\n",
              "      <td>...</td>\n",
              "      <td>...</td>\n",
              "      <td>...</td>\n",
              "      <td>...</td>\n",
              "      <td>...</td>\n",
              "    </tr>\n",
              "    <tr>\n",
              "      <th>4747</th>\n",
              "      <td>22.45</td>\n",
              "      <td>0.0</td>\n",
              "      <td>0.0</td>\n",
              "      <td>95.3</td>\n",
              "      <td>0.1</td>\n",
              "      <td>89.7</td>\n",
              "      <td>-1.1</td>\n",
              "      <td>89.9</td>\n",
              "      <td>1.3</td>\n",
              "      <td>82.3</td>\n",
              "      <td>0.2</td>\n",
              "      <td>58.6</td>\n",
              "      <td>1.7</td>\n",
              "      <td>0.11</td>\n",
              "      <td>0.0</td>\n",
              "      <td>0.0</td>\n",
              "      <td>0.01</td>\n",
              "      <td>0.04</td>\n",
              "      <td>0.0</td>\n",
              "      <td>0.0</td>\n",
              "      <td>0.0</td>\n",
              "      <td>0.0</td>\n",
              "      <td>0.0</td>\n",
              "      <td>1.5</td>\n",
              "      <td>0.00</td>\n",
              "      <td>-0.991445</td>\n",
              "      <td>0.130526</td>\n",
              "      <td>0.9</td>\n",
              "      <td>0.8</td>\n",
              "      <td>0.9</td>\n",
              "      <td>0.0</td>\n",
              "      <td>1.2</td>\n",
              "      <td>NaN</td>\n",
              "      <td>NaN</td>\n",
              "      <td>NaN</td>\n",
              "      <td>NaN</td>\n",
              "      <td>NaN</td>\n",
              "      <td>NaN</td>\n",
              "      <td>NaN</td>\n",
              "      <td>NaN</td>\n",
              "      <td>NaN</td>\n",
              "      <td>NaN</td>\n",
              "      <td>NaN</td>\n",
              "      <td>NaN</td>\n",
              "      <td>NaN</td>\n",
              "      <td>NaN</td>\n",
              "      <td>NaN</td>\n",
              "      <td>NaN</td>\n",
              "      <td>NaN</td>\n",
              "      <td>NaN</td>\n",
              "      <td>21.5</td>\n",
              "    </tr>\n",
              "    <tr>\n",
              "      <th>4748</th>\n",
              "      <td>22.40</td>\n",
              "      <td>0.0</td>\n",
              "      <td>0.0</td>\n",
              "      <td>95.6</td>\n",
              "      <td>0.3</td>\n",
              "      <td>90.1</td>\n",
              "      <td>0.4</td>\n",
              "      <td>91.3</td>\n",
              "      <td>1.4</td>\n",
              "      <td>82.5</td>\n",
              "      <td>0.2</td>\n",
              "      <td>59.1</td>\n",
              "      <td>0.5</td>\n",
              "      <td>0.09</td>\n",
              "      <td>0.0</td>\n",
              "      <td>0.0</td>\n",
              "      <td>0.01</td>\n",
              "      <td>0.02</td>\n",
              "      <td>0.0</td>\n",
              "      <td>0.0</td>\n",
              "      <td>0.0</td>\n",
              "      <td>0.0</td>\n",
              "      <td>0.0</td>\n",
              "      <td>1.5</td>\n",
              "      <td>-0.05</td>\n",
              "      <td>-0.991445</td>\n",
              "      <td>0.130526</td>\n",
              "      <td>0.5</td>\n",
              "      <td>0.7</td>\n",
              "      <td>1.0</td>\n",
              "      <td>0.0</td>\n",
              "      <td>1.3</td>\n",
              "      <td>NaN</td>\n",
              "      <td>NaN</td>\n",
              "      <td>NaN</td>\n",
              "      <td>NaN</td>\n",
              "      <td>NaN</td>\n",
              "      <td>NaN</td>\n",
              "      <td>NaN</td>\n",
              "      <td>NaN</td>\n",
              "      <td>NaN</td>\n",
              "      <td>NaN</td>\n",
              "      <td>NaN</td>\n",
              "      <td>NaN</td>\n",
              "      <td>NaN</td>\n",
              "      <td>NaN</td>\n",
              "      <td>NaN</td>\n",
              "      <td>NaN</td>\n",
              "      <td>NaN</td>\n",
              "      <td>NaN</td>\n",
              "      <td>21.5</td>\n",
              "    </tr>\n",
              "    <tr>\n",
              "      <th>4749</th>\n",
              "      <td>22.30</td>\n",
              "      <td>0.0</td>\n",
              "      <td>0.0</td>\n",
              "      <td>95.9</td>\n",
              "      <td>0.3</td>\n",
              "      <td>90.8</td>\n",
              "      <td>0.7</td>\n",
              "      <td>90.2</td>\n",
              "      <td>-1.1</td>\n",
              "      <td>83.0</td>\n",
              "      <td>0.5</td>\n",
              "      <td>58.9</td>\n",
              "      <td>-0.2</td>\n",
              "      <td>0.06</td>\n",
              "      <td>0.0</td>\n",
              "      <td>0.0</td>\n",
              "      <td>0.01</td>\n",
              "      <td>0.01</td>\n",
              "      <td>0.0</td>\n",
              "      <td>0.0</td>\n",
              "      <td>0.0</td>\n",
              "      <td>0.0</td>\n",
              "      <td>0.0</td>\n",
              "      <td>1.5</td>\n",
              "      <td>-0.10</td>\n",
              "      <td>-0.991445</td>\n",
              "      <td>0.130526</td>\n",
              "      <td>0.9</td>\n",
              "      <td>0.6</td>\n",
              "      <td>0.6</td>\n",
              "      <td>0.0</td>\n",
              "      <td>0.2</td>\n",
              "      <td>NaN</td>\n",
              "      <td>NaN</td>\n",
              "      <td>NaN</td>\n",
              "      <td>NaN</td>\n",
              "      <td>NaN</td>\n",
              "      <td>NaN</td>\n",
              "      <td>NaN</td>\n",
              "      <td>NaN</td>\n",
              "      <td>NaN</td>\n",
              "      <td>NaN</td>\n",
              "      <td>NaN</td>\n",
              "      <td>NaN</td>\n",
              "      <td>NaN</td>\n",
              "      <td>NaN</td>\n",
              "      <td>NaN</td>\n",
              "      <td>NaN</td>\n",
              "      <td>NaN</td>\n",
              "      <td>NaN</td>\n",
              "      <td>21.5</td>\n",
              "    </tr>\n",
              "    <tr>\n",
              "      <th>4750</th>\n",
              "      <td>22.25</td>\n",
              "      <td>0.0</td>\n",
              "      <td>0.0</td>\n",
              "      <td>95.9</td>\n",
              "      <td>0.0</td>\n",
              "      <td>91.5</td>\n",
              "      <td>0.7</td>\n",
              "      <td>90.1</td>\n",
              "      <td>-0.1</td>\n",
              "      <td>83.2</td>\n",
              "      <td>0.2</td>\n",
              "      <td>59.8</td>\n",
              "      <td>0.9</td>\n",
              "      <td>0.04</td>\n",
              "      <td>0.0</td>\n",
              "      <td>0.0</td>\n",
              "      <td>0.01</td>\n",
              "      <td>0.00</td>\n",
              "      <td>0.0</td>\n",
              "      <td>0.0</td>\n",
              "      <td>0.0</td>\n",
              "      <td>0.0</td>\n",
              "      <td>0.0</td>\n",
              "      <td>1.5</td>\n",
              "      <td>-0.05</td>\n",
              "      <td>-0.991445</td>\n",
              "      <td>0.130526</td>\n",
              "      <td>0.9</td>\n",
              "      <td>0.8</td>\n",
              "      <td>0.6</td>\n",
              "      <td>0.0</td>\n",
              "      <td>0.1</td>\n",
              "      <td>NaN</td>\n",
              "      <td>NaN</td>\n",
              "      <td>NaN</td>\n",
              "      <td>NaN</td>\n",
              "      <td>NaN</td>\n",
              "      <td>NaN</td>\n",
              "      <td>NaN</td>\n",
              "      <td>NaN</td>\n",
              "      <td>NaN</td>\n",
              "      <td>NaN</td>\n",
              "      <td>NaN</td>\n",
              "      <td>NaN</td>\n",
              "      <td>NaN</td>\n",
              "      <td>NaN</td>\n",
              "      <td>NaN</td>\n",
              "      <td>NaN</td>\n",
              "      <td>NaN</td>\n",
              "      <td>NaN</td>\n",
              "      <td>21.5</td>\n",
              "    </tr>\n",
              "    <tr>\n",
              "      <th>4751</th>\n",
              "      <td>22.20</td>\n",
              "      <td>0.0</td>\n",
              "      <td>0.0</td>\n",
              "      <td>96.2</td>\n",
              "      <td>0.3</td>\n",
              "      <td>93.0</td>\n",
              "      <td>1.5</td>\n",
              "      <td>89.6</td>\n",
              "      <td>-0.5</td>\n",
              "      <td>84.0</td>\n",
              "      <td>0.8</td>\n",
              "      <td>59.5</td>\n",
              "      <td>-0.3</td>\n",
              "      <td>0.02</td>\n",
              "      <td>0.0</td>\n",
              "      <td>0.0</td>\n",
              "      <td>0.01</td>\n",
              "      <td>0.00</td>\n",
              "      <td>0.0</td>\n",
              "      <td>0.0</td>\n",
              "      <td>0.0</td>\n",
              "      <td>0.0</td>\n",
              "      <td>0.0</td>\n",
              "      <td>1.5</td>\n",
              "      <td>-0.05</td>\n",
              "      <td>-0.991445</td>\n",
              "      <td>0.130526</td>\n",
              "      <td>1.0</td>\n",
              "      <td>0.3</td>\n",
              "      <td>0.0</td>\n",
              "      <td>0.0</td>\n",
              "      <td>0.1</td>\n",
              "      <td>NaN</td>\n",
              "      <td>NaN</td>\n",
              "      <td>NaN</td>\n",
              "      <td>NaN</td>\n",
              "      <td>NaN</td>\n",
              "      <td>NaN</td>\n",
              "      <td>NaN</td>\n",
              "      <td>NaN</td>\n",
              "      <td>NaN</td>\n",
              "      <td>NaN</td>\n",
              "      <td>NaN</td>\n",
              "      <td>NaN</td>\n",
              "      <td>NaN</td>\n",
              "      <td>NaN</td>\n",
              "      <td>NaN</td>\n",
              "      <td>NaN</td>\n",
              "      <td>NaN</td>\n",
              "      <td>NaN</td>\n",
              "      <td>21.0</td>\n",
              "    </tr>\n",
              "  </tbody>\n",
              "</table>\n",
              "<p>4752 rows × 51 columns</p>\n",
              "</div>"
            ],
            "text/plain": [
              "      Avg_temp  Decrease_InsolationA  Decrease_InsolationE  ...  Y16  Y17   Y18\n",
              "id                                                          ...                \n",
              "0        17.70                   0.0                   0.0  ...  8.0  9.0   NaN\n",
              "1        17.65                   0.0                   0.0  ...  7.5  9.0   NaN\n",
              "2        17.65                   0.0                   0.0  ...  7.5  8.5   NaN\n",
              "3        17.60                   0.0                   0.0  ...  7.5  8.5   NaN\n",
              "4        17.60                   0.0                   0.0  ...  7.5  8.5   NaN\n",
              "...        ...                   ...                   ...  ...  ...  ...   ...\n",
              "4747     22.45                   0.0                   0.0  ...  NaN  NaN  21.5\n",
              "4748     22.40                   0.0                   0.0  ...  NaN  NaN  21.5\n",
              "4749     22.30                   0.0                   0.0  ...  NaN  NaN  21.5\n",
              "4750     22.25                   0.0                   0.0  ...  NaN  NaN  21.5\n",
              "4751     22.20                   0.0                   0.0  ...  NaN  NaN  21.0\n",
              "\n",
              "[4752 rows x 51 columns]"
            ]
          },
          "metadata": {
            "tags": []
          },
          "execution_count": 67
        }
      ]
    },
    {
      "cell_type": "code",
      "metadata": {
        "id": "MjsLTiNlbjXd",
        "colab_type": "code",
        "colab": {}
      },
      "source": [
        "#많은 모델들로 실험한 결과, Y12를 학습시켜 Y18을 예측했을 때, 가장 결과가 좋게 나와 Y12데이터를 학습시킴."
      ],
      "execution_count": 0,
      "outputs": []
    },
    {
      "cell_type": "code",
      "metadata": {
        "id": "3V1-HiDs5jJr",
        "colab_type": "code",
        "outputId": "9be395ca-5411-4e47-ff22-9855b4a70d79",
        "colab": {
          "base_uri": "https://localhost:8080/",
          "height": 959
        }
      },
      "source": [
        "#아래로는 Learning Code\n",
        "\n",
        "import lightgbm as lgb\n",
        "from lightgbm import plot_importance\n",
        "\n",
        "Y_list = ['Y12']\n",
        "X_train = train.loc[:4319,'Avg_temp':\"WindE\"]\n",
        "a_test = train.loc[4320:, 'Avg_temp':\"WindE\"]\n",
        "\n",
        "for i in Y_list : \n",
        "  \n",
        "  y_train = train[i].iloc[:4320]\n",
        "\n",
        "  lgb_train = lgb.Dataset(X_train, y_train)\n",
        "  params = {  \n",
        "            'learning_rate': 0.01, \n",
        "            'max_depth': -1, \n",
        "            'boosting': 'gbdt', \n",
        "            'objective': 'regression', \n",
        "            'metric': 'mse', \n",
        "            'is_training_metric': True, \n",
        "            'num_leaves': 144, \n",
        "            'feature_fraction': 0.9,  \n",
        "            'bagging_fraction': 0.7, \n",
        "            'bagging_freq': 5, \n",
        "            'seed':2018,\n",
        "            }\n",
        "  globals()['lgb_amount_{}'.format(i)] = lgb.train(params, lgb_train,5000, valid_sets = [lgb_train], verbose_eval=100,early_stopping_rounds = 100)\n",
        "  # a_test[\"new_%s\" % i] = 0\n",
        "  a_test[\"new_%s\" % i] = globals()['lgb_amount_{}'.format(i)].predict(a_test.loc[:,\"Avg_temp\":\"WindE\"])"
      ],
      "execution_count": 68,
      "outputs": [
        {
          "output_type": "stream",
          "text": [
            "Training until validation scores don't improve for 100 rounds.\n",
            "[100]\ttraining's l2: 10.8699\n",
            "[200]\ttraining's l2: 2.19287\n",
            "[300]\ttraining's l2: 0.743797\n",
            "[400]\ttraining's l2: 0.412149\n",
            "[500]\ttraining's l2: 0.285477\n",
            "[600]\ttraining's l2: 0.213362\n",
            "[700]\ttraining's l2: 0.165959\n",
            "[800]\ttraining's l2: 0.131607\n",
            "[900]\ttraining's l2: 0.106215\n",
            "[1000]\ttraining's l2: 0.0861239\n",
            "[1100]\ttraining's l2: 0.070655\n",
            "[1200]\ttraining's l2: 0.0581755\n",
            "[1300]\ttraining's l2: 0.048773\n",
            "[1400]\ttraining's l2: 0.0409555\n",
            "[1500]\ttraining's l2: 0.0342757\n",
            "[1600]\ttraining's l2: 0.0290076\n",
            "[1700]\ttraining's l2: 0.0246983\n",
            "[1800]\ttraining's l2: 0.02104\n",
            "[1900]\ttraining's l2: 0.0181847\n",
            "[2000]\ttraining's l2: 0.0157358\n",
            "[2100]\ttraining's l2: 0.0137172\n",
            "[2200]\ttraining's l2: 0.0119703\n",
            "[2300]\ttraining's l2: 0.0105471\n",
            "[2400]\ttraining's l2: 0.00929092\n",
            "[2500]\ttraining's l2: 0.00816109\n",
            "[2600]\ttraining's l2: 0.00725906\n",
            "[2700]\ttraining's l2: 0.00644909\n",
            "[2800]\ttraining's l2: 0.00579595\n",
            "[2900]\ttraining's l2: 0.00518894\n",
            "[3000]\ttraining's l2: 0.00468026\n",
            "[3100]\ttraining's l2: 0.00422228\n",
            "[3200]\ttraining's l2: 0.0038067\n",
            "[3300]\ttraining's l2: 0.0034857\n",
            "[3400]\ttraining's l2: 0.00318749\n",
            "[3500]\ttraining's l2: 0.0029399\n",
            "[3600]\ttraining's l2: 0.00270232\n",
            "[3700]\ttraining's l2: 0.00247888\n",
            "[3800]\ttraining's l2: 0.00230101\n",
            "[3900]\ttraining's l2: 0.00212665\n",
            "[4000]\ttraining's l2: 0.00196543\n",
            "[4100]\ttraining's l2: 0.00182763\n",
            "[4200]\ttraining's l2: 0.00169354\n",
            "[4300]\ttraining's l2: 0.00158223\n",
            "[4400]\ttraining's l2: 0.0014844\n",
            "[4500]\ttraining's l2: 0.00138015\n",
            "[4600]\ttraining's l2: 0.00128697\n",
            "[4700]\ttraining's l2: 0.00121081\n",
            "[4800]\ttraining's l2: 0.00113363\n",
            "[4900]\ttraining's l2: 0.00107667\n",
            "[5000]\ttraining's l2: 0.00100921\n",
            "Did not meet early stopping. Best iteration is:\n",
            "[5000]\ttraining's l2: 0.00100921\n"
          ],
          "name": "stdout"
        }
      ]
    },
    {
      "cell_type": "code",
      "metadata": {
        "id": "A6SbwdxKFJiz",
        "colab_type": "code",
        "outputId": "1ece5def-a148-40b9-8238-7b0227d6dab2",
        "colab": {
          "base_uri": "https://localhost:8080/",
          "height": 422
        }
      },
      "source": [
        "from lightgbm import plot_importance\n",
        "\n",
        "fig, ax = plt.subplots(figsize = (10,6))\n",
        "\n",
        "plot_importance(lgb_amount_Y12, ax=ax)"
      ],
      "execution_count": 69,
      "outputs": [
        {
          "output_type": "execute_result",
          "data": {
            "text/plain": [
              "<matplotlib.axes._subplots.AxesSubplot at 0x7fde7ad216a0>"
            ]
          },
          "metadata": {
            "tags": []
          },
          "execution_count": 69
        },
        {
          "output_type": "display_data",
          "data": {
            "image/png": "[encoded data removed]",
            "text/plain": [
              "<Figure size 720x432 with 1 Axes>"
            ]
          },
          "metadata": {
            "tags": [],
            "needs_background": "light"
          }
        }
      ]
    },
    {
      "cell_type": "code",
      "metadata": {
        "id": "sa1pN8h4upLC",
        "colab_type": "code",
        "colab": {}
      },
      "source": [
        "test = pd.read_csv('test.csv', index_col = 'id')"
      ],
      "execution_count": 0,
      "outputs": []
    },
    {
      "cell_type": "code",
      "metadata": {
        "id": "XKQOCF0lF9iz",
        "colab_type": "code",
        "colab": {}
      },
      "source": [
        "test.columns = ['TempA', 'AtmA', 'WindA','WindB','PrecipitationA','Sea_pressA','AtmB','TempB','Sea_pressB','Sea_pressC','PrecipitationB','InsolationA','HumidityA','DirectionA','InsolationB','DirectionB','InsolationC','DirectionC','WindC','InsolationD','HumidityB','PrecipitationC','AtmC','Sea_pressD','WindD','DirectionD','WindE','AtmD','TempC','AtmE','HumidityC','TempD','TempE','Sea_pressE','InsolationE','DirectionE','PrecipitationD','HumidityD','HumidityE','PrecipitationE']"
      ],
      "execution_count": 0,
      "outputs": []
    },
    {
      "cell_type": "code",
      "metadata": {
        "id": "BB7O9XqGPMSi",
        "colab_type": "code",
        "outputId": "f25a267c-815f-4c84-a669-6f526b70ce17",
        "colab": {
          "base_uri": "https://localhost:8080/",
          "height": 106
        }
      },
      "source": [
        "# del_Wind(test)\n",
        "del_trash(test)\n",
        "Insolation_change(test)\n",
        "Insolation_sum(test)\n",
        "# direction_change(test)\n",
        "# direction_zero(test)\n",
        "del_direction(test)\n",
        "# Precipitation_True(test)\n",
        "# precipitation_change(test)\n",
        "# precipitation_sum(test)\n",
        "del_press(test)\n",
        "# temp_yesterday(test)\n",
        "del_Precipitation(test)\n",
        "avg_temp(test)\n",
        "decrease_Insolation(test)\n",
        "del_Insolation(test)\n",
        "time(test)\n",
        "# max_temp(test)\n",
        "# min_temp(test)\n",
        "# max_humidity(test)\n",
        "# min_humidity(test)\n",
        "# avg_humidity(test)\n",
        "# precipitation_increase(test)\n",
        "increase_humidity(test)\n",
        "temp_increase(test)\n",
        "# precipitation(test)\n",
        "# Time_Insolation(test)\n",
        "del_temp(test)"
      ],
      "execution_count": 72,
      "outputs": [
        {
          "output_type": "stream",
          "text": [
            "/usr/local/lib/python3.6/dist-packages/pandas/core/indexing.py:671: SettingWithCopyWarning: \n",
            "A value is trying to be set on a copy of a slice from a DataFrame\n",
            "\n",
            "See the caveats in the documentation: https://pandas.pydata.org/pandas-docs/stable/user_guide/indexing.html#returning-a-view-versus-a-copy\n",
            "  self._setitem_with_indexer(indexer, value)\n"
          ],
          "name": "stderr"
        }
      ]
    },
    {
      "cell_type": "code",
      "metadata": {
        "id": "GA2U00AFrdJa",
        "colab_type": "code",
        "outputId": "80f722ce-8c0a-4c46-a872-6c625e48d46b",
        "colab": {
          "base_uri": "https://localhost:8080/",
          "height": 106
        }
      },
      "source": [
        "max_Insolation(test)\n",
        "temp_increase2(test)\n",
        "no_insolation(test)"
      ],
      "execution_count": 73,
      "outputs": [
        {
          "output_type": "stream",
          "text": [
            "/usr/local/lib/python3.6/dist-packages/pandas/core/indexing.py:671: SettingWithCopyWarning: \n",
            "A value is trying to be set on a copy of a slice from a DataFrame\n",
            "\n",
            "See the caveats in the documentation: https://pandas.pydata.org/pandas-docs/stable/user_guide/indexing.html#returning-a-view-versus-a-copy\n",
            "  self._setitem_with_indexer(indexer, value)\n"
          ],
          "name": "stderr"
        }
      ]
    },
    {
      "cell_type": "code",
      "metadata": {
        "id": "3hN2_Nk4Kypw",
        "colab_type": "code",
        "colab": {}
      },
      "source": [
        "del test['AtmA']"
      ],
      "execution_count": 0,
      "outputs": []
    },
    {
      "cell_type": "code",
      "metadata": {
        "id": "xTj-L_OXKRjE",
        "colab_type": "code",
        "colab": {}
      },
      "source": [
        "#test Data의 이상치 처리\n",
        "test['InsolationA_change'].iloc[2803:2810] = 0.364\n",
        "test['InsolationA_change'].iloc[6829] = 0.42\n",
        "test['InsolationA_change'].iloc[6830] = 0.41\n",
        "test['InsolationA_change'].iloc[100] = 0.35\n",
        "test['InsolationA_change'].iloc[101] = 0.32\n",
        "test['InsolationA_change'].iloc[244:247] = 0.17\n",
        "\n",
        "test['InsolationE_change'].iloc[1668:1670] = 0.59\n",
        "test['InsolationE_change'].iloc[10865:10867] = 0.29"
      ],
      "execution_count": 0,
      "outputs": []
    },
    {
      "cell_type": "code",
      "metadata": {
        "id": "4fXfD3TKUijo",
        "colab_type": "code",
        "colab": {}
      },
      "source": [
        "test = test.sort_index(axis = 1)"
      ],
      "execution_count": 0,
      "outputs": []
    },
    {
      "cell_type": "code",
      "metadata": {
        "id": "xM0vXer2bWtk",
        "colab_type": "code",
        "colab": {}
      },
      "source": [
        "# 30일간의 Data + Y12와 3일간의 Data, Y18을 합쳐 학습시킴."
      ],
      "execution_count": 0,
      "outputs": []
    },
    {
      "cell_type": "code",
      "metadata": {
        "id": "it5I0ACFYJ5L",
        "colab_type": "code",
        "colab": {}
      },
      "source": [
        "new_X_train = pd.concat([X_train, train['Y12'].iloc[:4320]], axis = 1)"
      ],
      "execution_count": 0,
      "outputs": []
    },
    {
      "cell_type": "code",
      "metadata": {
        "id": "kO7z3--OYSCz",
        "colab_type": "code",
        "colab": {}
      },
      "source": [
        "new_X_train[['Y18']] = new_X_train[['Y12']]\n",
        "del new_X_train['Y12']"
      ],
      "execution_count": 0,
      "outputs": []
    },
    {
      "cell_type": "code",
      "metadata": {
        "id": "2OXtzKpk02yV",
        "colab_type": "code",
        "colab": {}
      },
      "source": [
        "y_valid = train['Y18'].iloc[4320:]"
      ],
      "execution_count": 0,
      "outputs": []
    },
    {
      "cell_type": "code",
      "metadata": {
        "id": "jvrupRbjYZ8k",
        "colab_type": "code",
        "colab": {}
      },
      "source": [
        "new_X_train2 = pd.concat([a_test, y_valid], axis = 1)\n",
        "del new_X_train2['new_Y12']"
      ],
      "execution_count": 0,
      "outputs": []
    },
    {
      "cell_type": "code",
      "metadata": {
        "colab_type": "code",
        "id": "8piB2TLj0g3D",
        "colab": {}
      },
      "source": [
        "new_train = pd.concat([new_X_train, new_X_train2])"
      ],
      "execution_count": 0,
      "outputs": []
    },
    {
      "cell_type": "code",
      "metadata": {
        "id": "E2dpV4nRmjB6",
        "colab_type": "code",
        "outputId": "96ab2daf-1d10-4eb3-8853-7a3878071e3f",
        "colab": {
          "base_uri": "https://localhost:8080/",
          "height": 448
        }
      },
      "source": [
        "new_train"
      ],
      "execution_count": 84,
      "outputs": [
        {
          "output_type": "execute_result",
          "data": {
            "text/html": [
              "<div>\n",
              "<style scoped>\n",
              "    .dataframe tbody tr th:only-of-type {\n",
              "        vertical-align: middle;\n",
              "    }\n",
              "\n",
              "    .dataframe tbody tr th {\n",
              "        vertical-align: top;\n",
              "    }\n",
              "\n",
              "    .dataframe thead th {\n",
              "        text-align: right;\n",
              "    }\n",
              "</style>\n",
              "<table border=\"1\" class=\"dataframe\">\n",
              "  <thead>\n",
              "    <tr style=\"text-align: right;\">\n",
              "      <th></th>\n",
              "      <th>Avg_temp</th>\n",
              "      <th>Decrease_InsolationA</th>\n",
              "      <th>Decrease_InsolationE</th>\n",
              "      <th>HumidityA</th>\n",
              "      <th>HumidityA_increase</th>\n",
              "      <th>HumidityB</th>\n",
              "      <th>HumidityB_increase</th>\n",
              "      <th>HumidityC</th>\n",
              "      <th>HumidityC_increase</th>\n",
              "      <th>HumidityD</th>\n",
              "      <th>HumidityD_increase</th>\n",
              "      <th>HumidityE</th>\n",
              "      <th>HumidityE_increase</th>\n",
              "      <th>InsolationA_12sum</th>\n",
              "      <th>InsolationA_6sum</th>\n",
              "      <th>InsolationA_change</th>\n",
              "      <th>InsolationA_sum</th>\n",
              "      <th>InsolationE_12sum</th>\n",
              "      <th>InsolationE_6sum</th>\n",
              "      <th>InsolationE_change</th>\n",
              "      <th>InsolationE_sum</th>\n",
              "      <th>Max_Insolation</th>\n",
              "      <th>Max_Insolation_sum</th>\n",
              "      <th>No_insolation</th>\n",
              "      <th>Temp_increase</th>\n",
              "      <th>Time_cos</th>\n",
              "      <th>Time_sin</th>\n",
              "      <th>WindA</th>\n",
              "      <th>WindB</th>\n",
              "      <th>WindC</th>\n",
              "      <th>WindD</th>\n",
              "      <th>WindE</th>\n",
              "      <th>Y18</th>\n",
              "    </tr>\n",
              "    <tr>\n",
              "      <th>id</th>\n",
              "      <th></th>\n",
              "      <th></th>\n",
              "      <th></th>\n",
              "      <th></th>\n",
              "      <th></th>\n",
              "      <th></th>\n",
              "      <th></th>\n",
              "      <th></th>\n",
              "      <th></th>\n",
              "      <th></th>\n",
              "      <th></th>\n",
              "      <th></th>\n",
              "      <th></th>\n",
              "      <th></th>\n",
              "      <th></th>\n",
              "      <th></th>\n",
              "      <th></th>\n",
              "      <th></th>\n",
              "      <th></th>\n",
              "      <th></th>\n",
              "      <th></th>\n",
              "      <th></th>\n",
              "      <th></th>\n",
              "      <th></th>\n",
              "      <th></th>\n",
              "      <th></th>\n",
              "      <th></th>\n",
              "      <th></th>\n",
              "      <th></th>\n",
              "      <th></th>\n",
              "      <th></th>\n",
              "      <th></th>\n",
              "      <th></th>\n",
              "    </tr>\n",
              "  </thead>\n",
              "  <tbody>\n",
              "    <tr>\n",
              "      <th>0</th>\n",
              "      <td>17.70</td>\n",
              "      <td>0.0</td>\n",
              "      <td>0.0</td>\n",
              "      <td>82.4</td>\n",
              "      <td>0.0</td>\n",
              "      <td>91.0</td>\n",
              "      <td>0.0</td>\n",
              "      <td>69.1</td>\n",
              "      <td>0.0</td>\n",
              "      <td>77.2</td>\n",
              "      <td>0.0</td>\n",
              "      <td>62.6</td>\n",
              "      <td>0.0</td>\n",
              "      <td>0.00</td>\n",
              "      <td>0.0</td>\n",
              "      <td>0.0</td>\n",
              "      <td>0.00</td>\n",
              "      <td>0.00</td>\n",
              "      <td>0.0</td>\n",
              "      <td>0.0</td>\n",
              "      <td>0.0</td>\n",
              "      <td>0.0</td>\n",
              "      <td>0.0</td>\n",
              "      <td>1.5</td>\n",
              "      <td>0.00</td>\n",
              "      <td>1.000000</td>\n",
              "      <td>0.000000</td>\n",
              "      <td>1.2</td>\n",
              "      <td>0.6</td>\n",
              "      <td>0.3</td>\n",
              "      <td>1.1</td>\n",
              "      <td>0.5</td>\n",
              "      <td>9.0</td>\n",
              "    </tr>\n",
              "    <tr>\n",
              "      <th>1</th>\n",
              "      <td>17.65</td>\n",
              "      <td>0.0</td>\n",
              "      <td>0.0</td>\n",
              "      <td>81.2</td>\n",
              "      <td>-1.2</td>\n",
              "      <td>91.9</td>\n",
              "      <td>0.9</td>\n",
              "      <td>70.3</td>\n",
              "      <td>1.2</td>\n",
              "      <td>77.3</td>\n",
              "      <td>0.1</td>\n",
              "      <td>63.5</td>\n",
              "      <td>0.9</td>\n",
              "      <td>0.00</td>\n",
              "      <td>0.0</td>\n",
              "      <td>0.0</td>\n",
              "      <td>0.00</td>\n",
              "      <td>0.00</td>\n",
              "      <td>0.0</td>\n",
              "      <td>0.0</td>\n",
              "      <td>0.0</td>\n",
              "      <td>0.0</td>\n",
              "      <td>0.0</td>\n",
              "      <td>1.5</td>\n",
              "      <td>-0.05</td>\n",
              "      <td>1.000000</td>\n",
              "      <td>0.000000</td>\n",
              "      <td>1.7</td>\n",
              "      <td>1.9</td>\n",
              "      <td>0.4</td>\n",
              "      <td>0.0</td>\n",
              "      <td>0.0</td>\n",
              "      <td>8.5</td>\n",
              "    </tr>\n",
              "    <tr>\n",
              "      <th>2</th>\n",
              "      <td>17.65</td>\n",
              "      <td>0.0</td>\n",
              "      <td>0.0</td>\n",
              "      <td>86.1</td>\n",
              "      <td>4.9</td>\n",
              "      <td>93.3</td>\n",
              "      <td>1.4</td>\n",
              "      <td>71.5</td>\n",
              "      <td>1.2</td>\n",
              "      <td>77.3</td>\n",
              "      <td>0.0</td>\n",
              "      <td>63.9</td>\n",
              "      <td>0.4</td>\n",
              "      <td>0.00</td>\n",
              "      <td>0.0</td>\n",
              "      <td>0.0</td>\n",
              "      <td>0.00</td>\n",
              "      <td>0.00</td>\n",
              "      <td>0.0</td>\n",
              "      <td>0.0</td>\n",
              "      <td>0.0</td>\n",
              "      <td>0.0</td>\n",
              "      <td>0.0</td>\n",
              "      <td>1.5</td>\n",
              "      <td>0.00</td>\n",
              "      <td>1.000000</td>\n",
              "      <td>0.000000</td>\n",
              "      <td>1.1</td>\n",
              "      <td>2.3</td>\n",
              "      <td>0.6</td>\n",
              "      <td>0.0</td>\n",
              "      <td>0.0</td>\n",
              "      <td>8.0</td>\n",
              "    </tr>\n",
              "    <tr>\n",
              "      <th>3</th>\n",
              "      <td>17.60</td>\n",
              "      <td>0.0</td>\n",
              "      <td>0.0</td>\n",
              "      <td>87.7</td>\n",
              "      <td>1.6</td>\n",
              "      <td>93.4</td>\n",
              "      <td>0.1</td>\n",
              "      <td>73.2</td>\n",
              "      <td>1.7</td>\n",
              "      <td>77.5</td>\n",
              "      <td>0.2</td>\n",
              "      <td>64.5</td>\n",
              "      <td>0.6</td>\n",
              "      <td>0.00</td>\n",
              "      <td>0.0</td>\n",
              "      <td>0.0</td>\n",
              "      <td>0.00</td>\n",
              "      <td>0.00</td>\n",
              "      <td>0.0</td>\n",
              "      <td>0.0</td>\n",
              "      <td>0.0</td>\n",
              "      <td>0.0</td>\n",
              "      <td>0.0</td>\n",
              "      <td>1.5</td>\n",
              "      <td>-0.05</td>\n",
              "      <td>1.000000</td>\n",
              "      <td>0.000000</td>\n",
              "      <td>1.5</td>\n",
              "      <td>0.7</td>\n",
              "      <td>0.1</td>\n",
              "      <td>0.0</td>\n",
              "      <td>0.2</td>\n",
              "      <td>8.0</td>\n",
              "    </tr>\n",
              "    <tr>\n",
              "      <th>4</th>\n",
              "      <td>17.60</td>\n",
              "      <td>0.0</td>\n",
              "      <td>0.0</td>\n",
              "      <td>88.9</td>\n",
              "      <td>1.2</td>\n",
              "      <td>94.1</td>\n",
              "      <td>0.7</td>\n",
              "      <td>74.3</td>\n",
              "      <td>1.1</td>\n",
              "      <td>78.0</td>\n",
              "      <td>0.5</td>\n",
              "      <td>65.0</td>\n",
              "      <td>0.5</td>\n",
              "      <td>0.00</td>\n",
              "      <td>0.0</td>\n",
              "      <td>0.0</td>\n",
              "      <td>0.00</td>\n",
              "      <td>0.00</td>\n",
              "      <td>0.0</td>\n",
              "      <td>0.0</td>\n",
              "      <td>0.0</td>\n",
              "      <td>0.0</td>\n",
              "      <td>0.0</td>\n",
              "      <td>1.5</td>\n",
              "      <td>0.00</td>\n",
              "      <td>1.000000</td>\n",
              "      <td>0.000000</td>\n",
              "      <td>0.8</td>\n",
              "      <td>1.7</td>\n",
              "      <td>0.0</td>\n",
              "      <td>0.0</td>\n",
              "      <td>0.0</td>\n",
              "      <td>7.5</td>\n",
              "    </tr>\n",
              "    <tr>\n",
              "      <th>...</th>\n",
              "      <td>...</td>\n",
              "      <td>...</td>\n",
              "      <td>...</td>\n",
              "      <td>...</td>\n",
              "      <td>...</td>\n",
              "      <td>...</td>\n",
              "      <td>...</td>\n",
              "      <td>...</td>\n",
              "      <td>...</td>\n",
              "      <td>...</td>\n",
              "      <td>...</td>\n",
              "      <td>...</td>\n",
              "      <td>...</td>\n",
              "      <td>...</td>\n",
              "      <td>...</td>\n",
              "      <td>...</td>\n",
              "      <td>...</td>\n",
              "      <td>...</td>\n",
              "      <td>...</td>\n",
              "      <td>...</td>\n",
              "      <td>...</td>\n",
              "      <td>...</td>\n",
              "      <td>...</td>\n",
              "      <td>...</td>\n",
              "      <td>...</td>\n",
              "      <td>...</td>\n",
              "      <td>...</td>\n",
              "      <td>...</td>\n",
              "      <td>...</td>\n",
              "      <td>...</td>\n",
              "      <td>...</td>\n",
              "      <td>...</td>\n",
              "      <td>...</td>\n",
              "    </tr>\n",
              "    <tr>\n",
              "      <th>4747</th>\n",
              "      <td>22.45</td>\n",
              "      <td>0.0</td>\n",
              "      <td>0.0</td>\n",
              "      <td>95.3</td>\n",
              "      <td>0.1</td>\n",
              "      <td>89.7</td>\n",
              "      <td>-1.1</td>\n",
              "      <td>89.9</td>\n",
              "      <td>1.3</td>\n",
              "      <td>82.3</td>\n",
              "      <td>0.2</td>\n",
              "      <td>58.6</td>\n",
              "      <td>1.7</td>\n",
              "      <td>0.11</td>\n",
              "      <td>0.0</td>\n",
              "      <td>0.0</td>\n",
              "      <td>0.01</td>\n",
              "      <td>0.04</td>\n",
              "      <td>0.0</td>\n",
              "      <td>0.0</td>\n",
              "      <td>0.0</td>\n",
              "      <td>0.0</td>\n",
              "      <td>0.0</td>\n",
              "      <td>1.5</td>\n",
              "      <td>0.00</td>\n",
              "      <td>-0.991445</td>\n",
              "      <td>0.130526</td>\n",
              "      <td>0.9</td>\n",
              "      <td>0.8</td>\n",
              "      <td>0.9</td>\n",
              "      <td>0.0</td>\n",
              "      <td>1.2</td>\n",
              "      <td>21.5</td>\n",
              "    </tr>\n",
              "    <tr>\n",
              "      <th>4748</th>\n",
              "      <td>22.40</td>\n",
              "      <td>0.0</td>\n",
              "      <td>0.0</td>\n",
              "      <td>95.6</td>\n",
              "      <td>0.3</td>\n",
              "      <td>90.1</td>\n",
              "      <td>0.4</td>\n",
              "      <td>91.3</td>\n",
              "      <td>1.4</td>\n",
              "      <td>82.5</td>\n",
              "      <td>0.2</td>\n",
              "      <td>59.1</td>\n",
              "      <td>0.5</td>\n",
              "      <td>0.09</td>\n",
              "      <td>0.0</td>\n",
              "      <td>0.0</td>\n",
              "      <td>0.01</td>\n",
              "      <td>0.02</td>\n",
              "      <td>0.0</td>\n",
              "      <td>0.0</td>\n",
              "      <td>0.0</td>\n",
              "      <td>0.0</td>\n",
              "      <td>0.0</td>\n",
              "      <td>1.5</td>\n",
              "      <td>-0.05</td>\n",
              "      <td>-0.991445</td>\n",
              "      <td>0.130526</td>\n",
              "      <td>0.5</td>\n",
              "      <td>0.7</td>\n",
              "      <td>1.0</td>\n",
              "      <td>0.0</td>\n",
              "      <td>1.3</td>\n",
              "      <td>21.5</td>\n",
              "    </tr>\n",
              "    <tr>\n",
              "      <th>4749</th>\n",
              "      <td>22.30</td>\n",
              "      <td>0.0</td>\n",
              "      <td>0.0</td>\n",
              "      <td>95.9</td>\n",
              "      <td>0.3</td>\n",
              "      <td>90.8</td>\n",
              "      <td>0.7</td>\n",
              "      <td>90.2</td>\n",
              "      <td>-1.1</td>\n",
              "      <td>83.0</td>\n",
              "      <td>0.5</td>\n",
              "      <td>58.9</td>\n",
              "      <td>-0.2</td>\n",
              "      <td>0.06</td>\n",
              "      <td>0.0</td>\n",
              "      <td>0.0</td>\n",
              "      <td>0.01</td>\n",
              "      <td>0.01</td>\n",
              "      <td>0.0</td>\n",
              "      <td>0.0</td>\n",
              "      <td>0.0</td>\n",
              "      <td>0.0</td>\n",
              "      <td>0.0</td>\n",
              "      <td>1.5</td>\n",
              "      <td>-0.10</td>\n",
              "      <td>-0.991445</td>\n",
              "      <td>0.130526</td>\n",
              "      <td>0.9</td>\n",
              "      <td>0.6</td>\n",
              "      <td>0.6</td>\n",
              "      <td>0.0</td>\n",
              "      <td>0.2</td>\n",
              "      <td>21.5</td>\n",
              "    </tr>\n",
              "    <tr>\n",
              "      <th>4750</th>\n",
              "      <td>22.25</td>\n",
              "      <td>0.0</td>\n",
              "      <td>0.0</td>\n",
              "      <td>95.9</td>\n",
              "      <td>0.0</td>\n",
              "      <td>91.5</td>\n",
              "      <td>0.7</td>\n",
              "      <td>90.1</td>\n",
              "      <td>-0.1</td>\n",
              "      <td>83.2</td>\n",
              "      <td>0.2</td>\n",
              "      <td>59.8</td>\n",
              "      <td>0.9</td>\n",
              "      <td>0.04</td>\n",
              "      <td>0.0</td>\n",
              "      <td>0.0</td>\n",
              "      <td>0.01</td>\n",
              "      <td>0.00</td>\n",
              "      <td>0.0</td>\n",
              "      <td>0.0</td>\n",
              "      <td>0.0</td>\n",
              "      <td>0.0</td>\n",
              "      <td>0.0</td>\n",
              "      <td>1.5</td>\n",
              "      <td>-0.05</td>\n",
              "      <td>-0.991445</td>\n",
              "      <td>0.130526</td>\n",
              "      <td>0.9</td>\n",
              "      <td>0.8</td>\n",
              "      <td>0.6</td>\n",
              "      <td>0.0</td>\n",
              "      <td>0.1</td>\n",
              "      <td>21.5</td>\n",
              "    </tr>\n",
              "    <tr>\n",
              "      <th>4751</th>\n",
              "      <td>22.20</td>\n",
              "      <td>0.0</td>\n",
              "      <td>0.0</td>\n",
              "      <td>96.2</td>\n",
              "      <td>0.3</td>\n",
              "      <td>93.0</td>\n",
              "      <td>1.5</td>\n",
              "      <td>89.6</td>\n",
              "      <td>-0.5</td>\n",
              "      <td>84.0</td>\n",
              "      <td>0.8</td>\n",
              "      <td>59.5</td>\n",
              "      <td>-0.3</td>\n",
              "      <td>0.02</td>\n",
              "      <td>0.0</td>\n",
              "      <td>0.0</td>\n",
              "      <td>0.01</td>\n",
              "      <td>0.00</td>\n",
              "      <td>0.0</td>\n",
              "      <td>0.0</td>\n",
              "      <td>0.0</td>\n",
              "      <td>0.0</td>\n",
              "      <td>0.0</td>\n",
              "      <td>1.5</td>\n",
              "      <td>-0.05</td>\n",
              "      <td>-0.991445</td>\n",
              "      <td>0.130526</td>\n",
              "      <td>1.0</td>\n",
              "      <td>0.3</td>\n",
              "      <td>0.0</td>\n",
              "      <td>0.0</td>\n",
              "      <td>0.1</td>\n",
              "      <td>21.0</td>\n",
              "    </tr>\n",
              "  </tbody>\n",
              "</table>\n",
              "<p>4752 rows × 33 columns</p>\n",
              "</div>"
            ],
            "text/plain": [
              "      Avg_temp  Decrease_InsolationA  Decrease_InsolationE  ...  WindD  WindE   Y18\n",
              "id                                                          ...                    \n",
              "0        17.70                   0.0                   0.0  ...    1.1    0.5   9.0\n",
              "1        17.65                   0.0                   0.0  ...    0.0    0.0   8.5\n",
              "2        17.65                   0.0                   0.0  ...    0.0    0.0   8.0\n",
              "3        17.60                   0.0                   0.0  ...    0.0    0.2   8.0\n",
              "4        17.60                   0.0                   0.0  ...    0.0    0.0   7.5\n",
              "...        ...                   ...                   ...  ...    ...    ...   ...\n",
              "4747     22.45                   0.0                   0.0  ...    0.0    1.2  21.5\n",
              "4748     22.40                   0.0                   0.0  ...    0.0    1.3  21.5\n",
              "4749     22.30                   0.0                   0.0  ...    0.0    0.2  21.5\n",
              "4750     22.25                   0.0                   0.0  ...    0.0    0.1  21.5\n",
              "4751     22.20                   0.0                   0.0  ...    0.0    0.1  21.0\n",
              "\n",
              "[4752 rows x 33 columns]"
            ]
          },
          "metadata": {
            "tags": []
          },
          "execution_count": 84
        }
      ]
    },
    {
      "cell_type": "code",
      "metadata": {
        "id": "dwWg4BUSZyyf",
        "colab_type": "code",
        "outputId": "c3793437-bdfc-43b7-8084-219ce3c11964",
        "colab": {
          "base_uri": "https://localhost:8080/",
          "height": 1000
        }
      },
      "source": [
        "X_train = new_train.iloc[:,:-1]\n",
        "y_train = new_train['Y18']\n",
        "\n",
        "lgb_train = lgb.Dataset(X_train, y_train)\n",
        "params = {  \n",
        "          'learning_rate': 0.01, \n",
        "          'max_depth': -1, \n",
        "          'boosting': 'gbdt', \n",
        "          'objective': 'regression', \n",
        "          'metric': 'mse', \n",
        "          'is_training_metric': True, \n",
        "          'num_leaves': 144, \n",
        "          'feature_fraction': 0.9,  \n",
        "          'bagging_fraction': 0.7, \n",
        "          'bagging_freq': 5, \n",
        "          'seed':2018,\n",
        "          }\n",
        "lgb_model = lgb.train(params, lgb_train,30000, valid_sets = [lgb_train], verbose_eval=100,early_stopping_rounds = 100)\n",
        "\n",
        "sub[\"Y18\"] = lgb_model.predict(test.loc[:,:])\n",
        "sub['Y18'].plot(figsize = (16,6))"
      ],
      "execution_count": 86,
      "outputs": [
        {
          "output_type": "stream",
          "text": [
            "Training until validation scores don't improve for 100 rounds.\n",
            "[100]\ttraining's l2: 10.6005\n",
            "[200]\ttraining's l2: 2.15928\n",
            "[300]\ttraining's l2: 0.751412\n",
            "[400]\ttraining's l2: 0.418444\n",
            "[500]\ttraining's l2: 0.289476\n",
            "[600]\ttraining's l2: 0.216783\n",
            "[700]\ttraining's l2: 0.16807\n",
            "[800]\ttraining's l2: 0.132287\n",
            "[900]\ttraining's l2: 0.105954\n",
            "[1000]\ttraining's l2: 0.0850242\n",
            "[1100]\ttraining's l2: 0.0691893\n",
            "[1200]\ttraining's l2: 0.0565387\n",
            "[1300]\ttraining's l2: 0.0465475\n",
            "[1400]\ttraining's l2: 0.0383606\n",
            "[1500]\ttraining's l2: 0.0320647\n",
            "[1600]\ttraining's l2: 0.0267278\n",
            "[1700]\ttraining's l2: 0.0223926\n",
            "[1800]\ttraining's l2: 0.0190408\n",
            "[1900]\ttraining's l2: 0.0162804\n",
            "[2000]\ttraining's l2: 0.0139404\n",
            "[2100]\ttraining's l2: 0.0119567\n",
            "[2200]\ttraining's l2: 0.0103077\n",
            "[2300]\ttraining's l2: 0.00894177\n",
            "[2400]\ttraining's l2: 0.00778054\n",
            "[2500]\ttraining's l2: 0.00683643\n",
            "[2600]\ttraining's l2: 0.00601012\n",
            "[2700]\ttraining's l2: 0.00531788\n",
            "[2800]\ttraining's l2: 0.00470167\n",
            "[2900]\ttraining's l2: 0.00419346\n",
            "[3000]\ttraining's l2: 0.00376197\n",
            "[3100]\ttraining's l2: 0.0033613\n",
            "[3200]\ttraining's l2: 0.00302639\n",
            "[3300]\ttraining's l2: 0.00275609\n",
            "[3400]\ttraining's l2: 0.00250233\n",
            "[3500]\ttraining's l2: 0.00228088\n",
            "[3600]\ttraining's l2: 0.0020922\n",
            "[3700]\ttraining's l2: 0.00191601\n",
            "[3800]\ttraining's l2: 0.00175685\n",
            "[3900]\ttraining's l2: 0.00162359\n",
            "[4000]\ttraining's l2: 0.00150571\n",
            "[4100]\ttraining's l2: 0.0013909\n",
            "[4200]\ttraining's l2: 0.00127719\n",
            "[4300]\ttraining's l2: 0.00118195\n",
            "[4400]\ttraining's l2: 0.00110375\n",
            "[4500]\ttraining's l2: 0.00103159\n",
            "[4600]\ttraining's l2: 0.000962088\n",
            "[4700]\ttraining's l2: 0.000906192\n",
            "[4800]\ttraining's l2: 0.000848356\n",
            "[4900]\ttraining's l2: 0.000798985\n",
            "[5000]\ttraining's l2: 0.000754994\n",
            "[5100]\ttraining's l2: 0.000711778\n",
            "[5200]\ttraining's l2: 0.000675857\n",
            "[5300]\ttraining's l2: 0.000637482\n",
            "[5400]\ttraining's l2: 0.000605183\n",
            "[5500]\ttraining's l2: 0.000568983\n",
            "[5600]\ttraining's l2: 0.000543139\n",
            "[5700]\ttraining's l2: 0.00051623\n",
            "[5800]\ttraining's l2: 0.000491544\n",
            "[5900]\ttraining's l2: 0.000470266\n",
            "[6000]\ttraining's l2: 0.000450483\n",
            "[6100]\ttraining's l2: 0.000428732\n",
            "[6200]\ttraining's l2: 0.000408727\n",
            "[6300]\ttraining's l2: 0.00039083\n",
            "[6400]\ttraining's l2: 0.000375454\n",
            "[6500]\ttraining's l2: 0.00035869\n",
            "[6600]\ttraining's l2: 0.000344847\n",
            "[6700]\ttraining's l2: 0.000329592\n",
            "[6800]\ttraining's l2: 0.000317154\n",
            "[6900]\ttraining's l2: 0.000304986\n",
            "[7000]\ttraining's l2: 0.000293347\n",
            "[7100]\ttraining's l2: 0.000281457\n",
            "[7200]\ttraining's l2: 0.000269907\n",
            "[7300]\ttraining's l2: 0.000258917\n",
            "[7400]\ttraining's l2: 0.000249266\n",
            "[7500]\ttraining's l2: 0.000240559\n",
            "[7600]\ttraining's l2: 0.000232044\n",
            "[7700]\ttraining's l2: 0.000224344\n",
            "[7800]\ttraining's l2: 0.000215912\n",
            "[7900]\ttraining's l2: 0.000207267\n",
            "[8000]\ttraining's l2: 0.000199258\n",
            "[8100]\ttraining's l2: 0.000192209\n",
            "[8200]\ttraining's l2: 0.000185832\n",
            "[8300]\ttraining's l2: 0.000180135\n",
            "[8400]\ttraining's l2: 0.000173445\n",
            "[8500]\ttraining's l2: 0.000167669\n",
            "[8600]\ttraining's l2: 0.000161726\n",
            "[8700]\ttraining's l2: 0.000157572\n",
            "[8800]\ttraining's l2: 0.00015352\n",
            "[8900]\ttraining's l2: 0.000148197\n",
            "[9000]\ttraining's l2: 0.00014355\n",
            "[9100]\ttraining's l2: 0.000138571\n",
            "[9200]\ttraining's l2: 0.000133775\n",
            "[9300]\ttraining's l2: 0.000129176\n",
            "[9400]\ttraining's l2: 0.000125718\n",
            "[9500]\ttraining's l2: 0.000122281\n",
            "[9600]\ttraining's l2: 0.000118545\n",
            "[9700]\ttraining's l2: 0.000115152\n",
            "[9800]\ttraining's l2: 0.000112109\n",
            "[9900]\ttraining's l2: 0.000109432\n",
            "[10000]\ttraining's l2: 0.000106767\n",
            "[10100]\ttraining's l2: 0.000103835\n",
            "[10200]\ttraining's l2: 0.000101236\n",
            "[10300]\ttraining's l2: 9.81412e-05\n",
            "[10400]\ttraining's l2: 9.52609e-05\n",
            "[10500]\ttraining's l2: 9.28152e-05\n",
            "[10600]\ttraining's l2: 9.04932e-05\n",
            "[10700]\ttraining's l2: 8.83031e-05\n",
            "[10800]\ttraining's l2: 8.63806e-05\n",
            "[10900]\ttraining's l2: 8.43458e-05\n",
            "[11000]\ttraining's l2: 8.20214e-05\n",
            "[11100]\ttraining's l2: 8.02559e-05\n",
            "[11200]\ttraining's l2: 7.84623e-05\n",
            "[11300]\ttraining's l2: 7.68765e-05\n",
            "[11400]\ttraining's l2: 7.48732e-05\n",
            "[11500]\ttraining's l2: 7.31172e-05\n",
            "[11600]\ttraining's l2: 7.15747e-05\n",
            "[11700]\ttraining's l2: 6.99527e-05\n",
            "[11800]\ttraining's l2: 6.85138e-05\n",
            "[11900]\ttraining's l2: 6.69567e-05\n",
            "[12000]\ttraining's l2: 6.54668e-05\n",
            "[12100]\ttraining's l2: 6.35431e-05\n",
            "[12200]\ttraining's l2: 6.16644e-05\n",
            "[12300]\ttraining's l2: 5.97895e-05\n",
            "[12400]\ttraining's l2: 5.78735e-05\n",
            "[12500]\ttraining's l2: 5.59593e-05\n",
            "[12600]\ttraining's l2: 5.42452e-05\n",
            "[12700]\ttraining's l2: 5.24456e-05\n",
            "[12800]\ttraining's l2: 5.09203e-05\n",
            "[12900]\ttraining's l2: 4.96468e-05\n",
            "[13000]\ttraining's l2: 4.80909e-05\n",
            "[13100]\ttraining's l2: 4.6405e-05\n",
            "[13200]\ttraining's l2: 4.51375e-05\n",
            "[13300]\ttraining's l2: 4.40179e-05\n",
            "[13400]\ttraining's l2: 4.2665e-05\n",
            "[13500]\ttraining's l2: 4.16965e-05\n",
            "[13600]\ttraining's l2: 4.05265e-05\n",
            "[13700]\ttraining's l2: 3.93289e-05\n",
            "[13800]\ttraining's l2: 3.82777e-05\n",
            "[13900]\ttraining's l2: 3.71707e-05\n",
            "[14000]\ttraining's l2: 3.61528e-05\n",
            "[14100]\ttraining's l2: 3.53841e-05\n",
            "[14200]\ttraining's l2: 3.43443e-05\n",
            "[14300]\ttraining's l2: 3.35027e-05\n",
            "[14400]\ttraining's l2: 3.25992e-05\n",
            "[14500]\ttraining's l2: 3.17754e-05\n",
            "[14600]\ttraining's l2: 3.09282e-05\n",
            "[14700]\ttraining's l2: 3.01599e-05\n",
            "[14800]\ttraining's l2: 2.93682e-05\n",
            "[14900]\ttraining's l2: 2.84169e-05\n",
            "[15000]\ttraining's l2: 2.75525e-05\n",
            "[15100]\ttraining's l2: 2.70542e-05\n",
            "[15200]\ttraining's l2: 2.63755e-05\n",
            "[15300]\ttraining's l2: 2.5695e-05\n",
            "[15400]\ttraining's l2: 2.49651e-05\n",
            "[15500]\ttraining's l2: 2.44441e-05\n",
            "[15600]\ttraining's l2: 2.39029e-05\n",
            "[15700]\ttraining's l2: 2.33312e-05\n",
            "[15800]\ttraining's l2: 2.26974e-05\n",
            "[15900]\ttraining's l2: 2.21919e-05\n",
            "[16000]\ttraining's l2: 2.15744e-05\n",
            "[16100]\ttraining's l2: 2.10815e-05\n",
            "[16200]\ttraining's l2: 2.05524e-05\n",
            "[16300]\ttraining's l2: 2.01092e-05\n",
            "[16400]\ttraining's l2: 1.95886e-05\n",
            "[16500]\ttraining's l2: 1.91763e-05\n",
            "[16600]\ttraining's l2: 1.86263e-05\n",
            "[16700]\ttraining's l2: 1.81323e-05\n",
            "[16800]\ttraining's l2: 1.77429e-05\n",
            "[16900]\ttraining's l2: 1.73218e-05\n",
            "[17000]\ttraining's l2: 1.69416e-05\n",
            "[17100]\ttraining's l2: 1.65867e-05\n",
            "[17200]\ttraining's l2: 1.62277e-05\n",
            "[17300]\ttraining's l2: 1.58779e-05\n",
            "[17400]\ttraining's l2: 1.5565e-05\n",
            "[17500]\ttraining's l2: 1.5157e-05\n",
            "[17600]\ttraining's l2: 1.48057e-05\n",
            "[17700]\ttraining's l2: 1.44533e-05\n",
            "[17800]\ttraining's l2: 1.41126e-05\n",
            "[17900]\ttraining's l2: 1.37628e-05\n",
            "[18000]\ttraining's l2: 1.34336e-05\n",
            "[18100]\ttraining's l2: 1.31331e-05\n",
            "[18200]\ttraining's l2: 1.27889e-05\n",
            "[18300]\ttraining's l2: 1.24859e-05\n",
            "[18400]\ttraining's l2: 1.21548e-05\n",
            "[18500]\ttraining's l2: 1.18211e-05\n",
            "[18600]\ttraining's l2: 1.15301e-05\n",
            "[18700]\ttraining's l2: 1.12858e-05\n",
            "[18800]\ttraining's l2: 1.10182e-05\n",
            "[18900]\ttraining's l2: 1.06984e-05\n",
            "[19000]\ttraining's l2: 1.04269e-05\n",
            "[19100]\ttraining's l2: 1.01383e-05\n",
            "[19200]\ttraining's l2: 9.93197e-06\n",
            "[19300]\ttraining's l2: 9.70644e-06\n",
            "[19400]\ttraining's l2: 9.4852e-06\n",
            "[19500]\ttraining's l2: 9.2575e-06\n",
            "[19600]\ttraining's l2: 9.08477e-06\n",
            "[19700]\ttraining's l2: 8.82818e-06\n",
            "[19800]\ttraining's l2: 8.62457e-06\n",
            "[19900]\ttraining's l2: 8.43509e-06\n",
            "[20000]\ttraining's l2: 8.28401e-06\n",
            "[20100]\ttraining's l2: 8.07082e-06\n",
            "[20200]\ttraining's l2: 7.81954e-06\n",
            "[20300]\ttraining's l2: 7.61337e-06\n",
            "[20400]\ttraining's l2: 7.29125e-06\n",
            "[20500]\ttraining's l2: 7.09727e-06\n",
            "[20600]\ttraining's l2: 6.90708e-06\n",
            "[20700]\ttraining's l2: 6.72711e-06\n",
            "[20800]\ttraining's l2: 6.51551e-06\n",
            "[20900]\ttraining's l2: 6.34088e-06\n",
            "[21000]\ttraining's l2: 6.18779e-06\n",
            "[21100]\ttraining's l2: 6.01506e-06\n",
            "[21200]\ttraining's l2: 5.84472e-06\n",
            "[21300]\ttraining's l2: 5.70743e-06\n",
            "[21400]\ttraining's l2: 5.57361e-06\n",
            "[21500]\ttraining's l2: 5.43759e-06\n",
            "[21600]\ttraining's l2: 5.31213e-06\n",
            "[21700]\ttraining's l2: 5.20208e-06\n",
            "[21800]\ttraining's l2: 5.06854e-06\n",
            "[21900]\ttraining's l2: 4.94575e-06\n",
            "[22000]\ttraining's l2: 4.82398e-06\n",
            "[22100]\ttraining's l2: 4.70758e-06\n",
            "[22200]\ttraining's l2: 4.58318e-06\n",
            "[22300]\ttraining's l2: 4.473e-06\n",
            "[22400]\ttraining's l2: 4.36327e-06\n",
            "[22500]\ttraining's l2: 4.25518e-06\n",
            "[22600]\ttraining's l2: 4.14134e-06\n",
            "[22700]\ttraining's l2: 4.03563e-06\n",
            "[22800]\ttraining's l2: 3.94871e-06\n",
            "[22900]\ttraining's l2: 3.87473e-06\n",
            "[23000]\ttraining's l2: 3.77722e-06\n",
            "[23100]\ttraining's l2: 3.69336e-06\n",
            "[23200]\ttraining's l2: 3.60695e-06\n",
            "[23300]\ttraining's l2: 3.52588e-06\n",
            "[23400]\ttraining's l2: 3.45688e-06\n",
            "[23500]\ttraining's l2: 3.4005e-06\n",
            "[23600]\ttraining's l2: 3.31196e-06\n",
            "[23700]\ttraining's l2: 3.22388e-06\n",
            "[23800]\ttraining's l2: 3.16335e-06\n",
            "[23900]\ttraining's l2: 3.08591e-06\n",
            "[24000]\ttraining's l2: 3.02053e-06\n",
            "[24100]\ttraining's l2: 2.91883e-06\n",
            "[24200]\ttraining's l2: 2.85396e-06\n",
            "[24300]\ttraining's l2: 2.78857e-06\n",
            "[24400]\ttraining's l2: 2.71811e-06\n",
            "[24500]\ttraining's l2: 2.63557e-06\n",
            "[24600]\ttraining's l2: 2.57886e-06\n",
            "[24700]\ttraining's l2: 2.52474e-06\n",
            "[24800]\ttraining's l2: 2.47968e-06\n",
            "[24900]\ttraining's l2: 2.42964e-06\n",
            "[25000]\ttraining's l2: 2.37929e-06\n",
            "[25100]\ttraining's l2: 2.31331e-06\n",
            "[25200]\ttraining's l2: 2.25329e-06\n",
            "[25300]\ttraining's l2: 2.20391e-06\n",
            "[25400]\ttraining's l2: 2.1553e-06\n",
            "[25500]\ttraining's l2: 2.0984e-06\n",
            "[25600]\ttraining's l2: 2.05178e-06\n",
            "[25700]\ttraining's l2: 1.99725e-06\n",
            "[25800]\ttraining's l2: 1.95586e-06\n",
            "[25900]\ttraining's l2: 1.91464e-06\n",
            "[26000]\ttraining's l2: 1.8782e-06\n",
            "[26100]\ttraining's l2: 1.83714e-06\n",
            "[26200]\ttraining's l2: 1.79736e-06\n",
            "[26300]\ttraining's l2: 1.75973e-06\n",
            "[26400]\ttraining's l2: 1.72187e-06\n",
            "[26500]\ttraining's l2: 1.68237e-06\n",
            "[26600]\ttraining's l2: 1.64195e-06\n",
            "[26700]\ttraining's l2: 1.60707e-06\n",
            "[26800]\ttraining's l2: 1.5721e-06\n",
            "[26900]\ttraining's l2: 1.53818e-06\n",
            "[27000]\ttraining's l2: 1.50114e-06\n",
            "[27100]\ttraining's l2: 1.46713e-06\n",
            "[27200]\ttraining's l2: 1.43756e-06\n",
            "[27300]\ttraining's l2: 1.40596e-06\n",
            "[27400]\ttraining's l2: 1.37535e-06\n",
            "[27500]\ttraining's l2: 1.337e-06\n",
            "[27600]\ttraining's l2: 1.30513e-06\n",
            "[27700]\ttraining's l2: 1.27758e-06\n",
            "[27800]\ttraining's l2: 1.25382e-06\n",
            "[27900]\ttraining's l2: 1.22622e-06\n",
            "[28000]\ttraining's l2: 1.20598e-06\n",
            "[28100]\ttraining's l2: 1.18316e-06\n",
            "[28200]\ttraining's l2: 1.15233e-06\n",
            "[28300]\ttraining's l2: 1.1266e-06\n",
            "[28400]\ttraining's l2: 1.09705e-06\n",
            "[28500]\ttraining's l2: 1.06985e-06\n",
            "[28600]\ttraining's l2: 1.04655e-06\n",
            "[28700]\ttraining's l2: 1.0198e-06\n",
            "[28800]\ttraining's l2: 9.98136e-07\n",
            "[28900]\ttraining's l2: 9.73154e-07\n",
            "[29000]\ttraining's l2: 9.50973e-07\n",
            "[29100]\ttraining's l2: 9.31026e-07\n",
            "[29200]\ttraining's l2: 9.07087e-07\n",
            "[29300]\ttraining's l2: 8.81157e-07\n",
            "[29400]\ttraining's l2: 8.599e-07\n",
            "[29500]\ttraining's l2: 8.37547e-07\n",
            "[29600]\ttraining's l2: 8.19417e-07\n",
            "[29700]\ttraining's l2: 7.98268e-07\n",
            "[29800]\ttraining's l2: 7.83225e-07\n",
            "[29900]\ttraining's l2: 7.61669e-07\n",
            "[30000]\ttraining's l2: 7.44821e-07\n",
            "Did not meet early stopping. Best iteration is:\n",
            "[30000]\ttraining's l2: 7.44821e-07\n"
          ],
          "name": "stdout"
        },
        {
          "output_type": "execute_result",
          "data": {
            "text/plain": [
              "<matplotlib.axes._subplots.AxesSubplot at 0x7fde6e2d91d0>"
            ]
          },
          "metadata": {
            "tags": []
          },
          "execution_count": 86
        },
        {
          "output_type": "display_data",
          "data": {
            "image/png": "[encoded data removed]",
            "text/plain": [
              "<Figure size 1152x432 with 1 Axes>"
            ]
          },
          "metadata": {
            "tags": [],
            "needs_background": "light"
          }
        }
      ]
    },
    {
      "cell_type": "code",
      "metadata": {
        "id": "XNMBkXwM1HJf",
        "colab_type": "code",
        "outputId": "dc402fb8-8178-47e9-bbe7-d9fd24ecb38c",
        "colab": {
          "base_uri": "https://localhost:8080/",
          "height": 392
        }
      },
      "source": [
        "sub['Y18'].plot(figsize = (16,6))"
      ],
      "execution_count": 87,
      "outputs": [
        {
          "output_type": "execute_result",
          "data": {
            "text/plain": [
              "<matplotlib.axes._subplots.AxesSubplot at 0x7fde6e2d3518>"
            ]
          },
          "metadata": {
            "tags": []
          },
          "execution_count": 87
        },
        {
          "output_type": "display_data",
          "data": {
            "image/png": "[encoded data removed]",
            "text/plain": [
              "<Figure size 1152x432 with 1 Axes>"
            ]
          },
          "metadata": {
            "tags": [],
            "needs_background": "light"
          }
        }
      ]
    },
    {
      "cell_type": "code",
      "metadata": {
        "id": "eZlO_gsrca3J",
        "colab_type": "code",
        "colab": {}
      },
      "source": [
        "sub.to_csv(\"/content/sample_data/answer.csv\",index=False)"
      ],
      "execution_count": 0,
      "outputs": []
    },
    {
      "cell_type": "code",
      "metadata": {
        "id": "lBcgcWIX3QRl",
        "colab_type": "code",
        "outputId": "94ec7d8a-eb00-4ef5-baef-f1a1104cfce0",
        "colab": {
          "base_uri": "https://localhost:8080/",
          "height": 422
        }
      },
      "source": [
        "fig, ax = plt.subplots(figsize = (10,6))\n",
        "plot_importance(lgb_model, ax=ax)"
      ],
      "execution_count": 89,
      "outputs": [
        {
          "output_type": "execute_result",
          "data": {
            "text/plain": [
              "<matplotlib.axes._subplots.AxesSubplot at 0x7fde6c735940>"
            ]
          },
          "metadata": {
            "tags": []
          },
          "execution_count": 89
        },
        {
          "output_type": "display_data",
          "data": {
            "image/png": "[encoded data removed]",
            "text/plain": [
              "<Figure size 720x432 with 1 Axes>"
            ]
          },
          "metadata": {
            "tags": [],
            "needs_background": "light"
          }
        }
      ]
    },
    {
      "cell_type": "code",
      "metadata": {
        "id": "ncFBa_wvdtkN",
        "colab_type": "code",
        "colab": {}
      },
      "source": [
        ""
      ],
      "execution_count": 0,
      "outputs": []
    }
  ]
}