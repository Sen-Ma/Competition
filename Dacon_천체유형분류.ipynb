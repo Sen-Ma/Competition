{
  "nbformat": 4,
  "nbformat_minor": 0,
  "metadata": {
    "colab": {
      "name": "Dacon_Practice.ipynb",
      "provenance": [],
      "authorship_tag": "ABX9TyMOVt7w0HKF4WhVkemLwQty",
      "include_colab_link": true
    },
    "kernelspec": {
      "name": "python3",
      "display_name": "Python 3"
    }
  },
  "cells": [
    {
      "cell_type": "markdown",
      "metadata": {
        "id": "view-in-github",
        "colab_type": "text"
      },
      "source": [
        "<a href=\"https://colab.research.google.com/github/Sen-Ma/Dacon/blob/master/Dacon_Practice.ipynb\" target=\"_parent\"><img src=\"https://colab.research.google.com/assets/colab-badge.svg\" alt=\"Open In Colab\"/></a>"
      ]
    },
    {
      "cell_type": "code",
      "metadata": {
        "id": "zsnAiI6nxo8B",
        "colab_type": "code",
        "outputId": "cb9b4606-d57d-48b9-eb8a-09ec2c4c525d",
        "colab": {
          "base_uri": "https://localhost:8080/",
          "height": 55
        }
      },
      "source": [
        "from google.colab import drive \n",
        "drive.mount('/content/gdrive')"
      ],
      "execution_count": 15,
      "outputs": [
        {
          "output_type": "stream",
          "text": [
            "Drive already mounted at /content/gdrive; to attempt to forcibly remount, call drive.mount(\"/content/gdrive\", force_remount=True).\n"
          ],
          "name": "stdout"
        }
      ]
    },
    {
      "cell_type": "code",
      "metadata": {
        "id": "0R06yi5D1JNd",
        "colab_type": "code",
        "colab": {}
      },
      "source": [
        "import pandas as pd \n",
        "import numpy as np \n",
        "import matplotlib.pyplot as plt"
      ],
      "execution_count": 0,
      "outputs": []
    },
    {
      "cell_type": "code",
      "metadata": {
        "id": "o6Ms2zLa1kSD",
        "colab_type": "code",
        "colab": {}
      },
      "source": [
        "train = pd.read_csv('/content/gdrive/My Drive/Dacon/train.csv', index_col = 0)\n",
        "test = pd.read_csv('/content/gdrive/My Drive/Dacon/test.csv', index_col = 0)\n",
        "sample_submission = pd.read_csv('/content/gdrive/My Drive/Dacon/sample_submission.csv', index_col = 0)"
      ],
      "execution_count": 0,
      "outputs": []
    },
    {
      "cell_type": "code",
      "metadata": {
        "id": "KUScTDm-nwt-",
        "colab_type": "code",
        "colab": {}
      },
      "source": [
        "column_number = {}\n",
        "for i, column in enumerate(sample_submission.columns):\n",
        "  column_number[column]=i\n",
        "\n",
        "def to_number(x, dic):\n",
        "  return dic[x]\n",
        "\n",
        "train['type_num'] = train['type'].apply(lambda x : to_number(x, column_number))"
      ],
      "execution_count": 0,
      "outputs": []
    },
    {
      "cell_type": "code",
      "metadata": {
        "colab_type": "code",
        "outputId": "bb36ca17-9205-41c4-b6db-2481ce846eff",
        "id": "d13gxLr2sBNq",
        "colab": {
          "base_uri": "https://localhost:8080/",
          "height": 243
        }
      },
      "source": [
        "train.head()"
      ],
      "execution_count": 0,
      "outputs": [
        {
          "output_type": "execute_result",
          "data": {
            "text/html": [
              "<div>\n",
              "<style scoped>\n",
              "    .dataframe tbody tr th:only-of-type {\n",
              "        vertical-align: middle;\n",
              "    }\n",
              "\n",
              "    .dataframe tbody tr th {\n",
              "        vertical-align: top;\n",
              "    }\n",
              "\n",
              "    .dataframe thead th {\n",
              "        text-align: right;\n",
              "    }\n",
              "</style>\n",
              "<table border=\"1\" class=\"dataframe\">\n",
              "  <thead>\n",
              "    <tr style=\"text-align: right;\">\n",
              "      <th></th>\n",
              "      <th>type</th>\n",
              "      <th>fiberID</th>\n",
              "      <th>psfMag_u</th>\n",
              "      <th>psfMag_g</th>\n",
              "      <th>psfMag_r</th>\n",
              "      <th>psfMag_i</th>\n",
              "      <th>psfMag_z</th>\n",
              "      <th>fiberMag_u</th>\n",
              "      <th>fiberMag_g</th>\n",
              "      <th>fiberMag_r</th>\n",
              "      <th>fiberMag_i</th>\n",
              "      <th>fiberMag_z</th>\n",
              "      <th>petroMag_u</th>\n",
              "      <th>petroMag_g</th>\n",
              "      <th>petroMag_r</th>\n",
              "      <th>petroMag_i</th>\n",
              "      <th>petroMag_z</th>\n",
              "      <th>modelMag_u</th>\n",
              "      <th>modelMag_g</th>\n",
              "      <th>modelMag_r</th>\n",
              "      <th>modelMag_i</th>\n",
              "      <th>modelMag_z</th>\n",
              "      <th>type_num</th>\n",
              "    </tr>\n",
              "    <tr>\n",
              "      <th>id</th>\n",
              "      <th></th>\n",
              "      <th></th>\n",
              "      <th></th>\n",
              "      <th></th>\n",
              "      <th></th>\n",
              "      <th></th>\n",
              "      <th></th>\n",
              "      <th></th>\n",
              "      <th></th>\n",
              "      <th></th>\n",
              "      <th></th>\n",
              "      <th></th>\n",
              "      <th></th>\n",
              "      <th></th>\n",
              "      <th></th>\n",
              "      <th></th>\n",
              "      <th></th>\n",
              "      <th></th>\n",
              "      <th></th>\n",
              "      <th></th>\n",
              "      <th></th>\n",
              "      <th></th>\n",
              "      <th></th>\n",
              "    </tr>\n",
              "  </thead>\n",
              "  <tbody>\n",
              "    <tr>\n",
              "      <th>0</th>\n",
              "      <td>QSO</td>\n",
              "      <td>601</td>\n",
              "      <td>23.198224</td>\n",
              "      <td>21.431953</td>\n",
              "      <td>21.314148</td>\n",
              "      <td>21.176553</td>\n",
              "      <td>21.171444</td>\n",
              "      <td>22.581309</td>\n",
              "      <td>21.644453</td>\n",
              "      <td>21.657571</td>\n",
              "      <td>21.387653</td>\n",
              "      <td>21.572827</td>\n",
              "      <td>22.504317</td>\n",
              "      <td>21.431636</td>\n",
              "      <td>21.478312</td>\n",
              "      <td>21.145409</td>\n",
              "      <td>20.422446</td>\n",
              "      <td>22.749241</td>\n",
              "      <td>21.465534</td>\n",
              "      <td>21.364187</td>\n",
              "      <td>21.020605</td>\n",
              "      <td>21.147340</td>\n",
              "      <td>8</td>\n",
              "    </tr>\n",
              "    <tr>\n",
              "      <th>1</th>\n",
              "      <td>QSO</td>\n",
              "      <td>788</td>\n",
              "      <td>21.431355</td>\n",
              "      <td>20.708104</td>\n",
              "      <td>20.678850</td>\n",
              "      <td>20.703420</td>\n",
              "      <td>20.473229</td>\n",
              "      <td>21.868797</td>\n",
              "      <td>21.029773</td>\n",
              "      <td>20.967054</td>\n",
              "      <td>20.937731</td>\n",
              "      <td>21.063646</td>\n",
              "      <td>21.360701</td>\n",
              "      <td>20.778968</td>\n",
              "      <td>20.889705</td>\n",
              "      <td>20.639812</td>\n",
              "      <td>20.646660</td>\n",
              "      <td>21.492955</td>\n",
              "      <td>20.758527</td>\n",
              "      <td>20.753925</td>\n",
              "      <td>20.693389</td>\n",
              "      <td>20.512314</td>\n",
              "      <td>8</td>\n",
              "    </tr>\n",
              "    <tr>\n",
              "      <th>2</th>\n",
              "      <td>QSO</td>\n",
              "      <td>427</td>\n",
              "      <td>17.851451</td>\n",
              "      <td>16.727898</td>\n",
              "      <td>16.679677</td>\n",
              "      <td>16.694640</td>\n",
              "      <td>16.641788</td>\n",
              "      <td>18.171890</td>\n",
              "      <td>17.033098</td>\n",
              "      <td>16.999682</td>\n",
              "      <td>17.095999</td>\n",
              "      <td>17.076449</td>\n",
              "      <td>17.867253</td>\n",
              "      <td>16.738784</td>\n",
              "      <td>16.688874</td>\n",
              "      <td>16.744210</td>\n",
              "      <td>16.808006</td>\n",
              "      <td>17.818063</td>\n",
              "      <td>16.697434</td>\n",
              "      <td>16.641249</td>\n",
              "      <td>16.660177</td>\n",
              "      <td>16.688928</td>\n",
              "      <td>8</td>\n",
              "    </tr>\n",
              "    <tr>\n",
              "      <th>3</th>\n",
              "      <td>QSO</td>\n",
              "      <td>864</td>\n",
              "      <td>20.789900</td>\n",
              "      <td>20.040371</td>\n",
              "      <td>19.926909</td>\n",
              "      <td>19.843840</td>\n",
              "      <td>19.463270</td>\n",
              "      <td>21.039030</td>\n",
              "      <td>20.317165</td>\n",
              "      <td>20.217898</td>\n",
              "      <td>20.073852</td>\n",
              "      <td>19.794505</td>\n",
              "      <td>20.433907</td>\n",
              "      <td>19.993727</td>\n",
              "      <td>19.985531</td>\n",
              "      <td>19.750917</td>\n",
              "      <td>19.455117</td>\n",
              "      <td>20.770711</td>\n",
              "      <td>20.001699</td>\n",
              "      <td>19.889798</td>\n",
              "      <td>19.758113</td>\n",
              "      <td>19.552855</td>\n",
              "      <td>8</td>\n",
              "    </tr>\n",
              "    <tr>\n",
              "      <th>4</th>\n",
              "      <td>STAR_RED_DWARF</td>\n",
              "      <td>612</td>\n",
              "      <td>26.454969</td>\n",
              "      <td>23.058767</td>\n",
              "      <td>21.471406</td>\n",
              "      <td>19.504961</td>\n",
              "      <td>18.389096</td>\n",
              "      <td>25.700632</td>\n",
              "      <td>23.629122</td>\n",
              "      <td>21.742750</td>\n",
              "      <td>19.861718</td>\n",
              "      <td>18.810375</td>\n",
              "      <td>25.859229</td>\n",
              "      <td>22.426929</td>\n",
              "      <td>21.673551</td>\n",
              "      <td>19.610012</td>\n",
              "      <td>18.376141</td>\n",
              "      <td>24.877052</td>\n",
              "      <td>23.147993</td>\n",
              "      <td>21.475342</td>\n",
              "      <td>19.487330</td>\n",
              "      <td>18.375655</td>\n",
              "      <td>10</td>\n",
              "    </tr>\n",
              "  </tbody>\n",
              "</table>\n",
              "</div>"
            ],
            "text/plain": [
              "              type  fiberID   psfMag_u  ...  modelMag_i  modelMag_z  type_num\n",
              "id                                      ...                                  \n",
              "0              QSO      601  23.198224  ...   21.020605   21.147340         8\n",
              "1              QSO      788  21.431355  ...   20.693389   20.512314         8\n",
              "2              QSO      427  17.851451  ...   16.660177   16.688928         8\n",
              "3              QSO      864  20.789900  ...   19.758113   19.552855         8\n",
              "4   STAR_RED_DWARF      612  26.454969  ...   19.487330   18.375655        10\n",
              "\n",
              "[5 rows x 23 columns]"
            ]
          },
          "metadata": {
            "tags": []
          },
          "execution_count": 32
        }
      ]
    },
    {
      "cell_type": "code",
      "metadata": {
        "id": "mDf0pcKtrxcb",
        "colab_type": "code",
        "colab": {}
      },
      "source": [
        "train['psfMag_sum'] = train.iloc[:,2:7].sum(axis=1)\n",
        "train['fiberMag_sum'] = train.iloc[:,7:12].sum(axis=1)\n",
        "train['petroMag_sum'] = train.iloc[:,12:17].sum(axis=1)\n",
        "train['modelMag_sum'] = train.iloc[:,17:22].sum(axis=1)"
      ],
      "execution_count": 0,
      "outputs": []
    },
    {
      "cell_type": "code",
      "metadata": {
        "id": "HXoYEm7xoF79",
        "colab_type": "code",
        "colab": {}
      },
      "source": [
        "train_x = train.drop(columns = ['type', 'type_num'], axis = 1)\n",
        "train_y = train['type_num']\n",
        "test_x = test"
      ],
      "execution_count": 0,
      "outputs": []
    },
    {
      "cell_type": "code",
      "metadata": {
        "id": "_5jGQkIBoOVb",
        "colab_type": "code",
        "colab": {
          "base_uri": "https://localhost:8080/",
          "height": 124
        },
        "outputId": "c8405359-d64d-4bef-d4f0-8b15b31021e9"
      },
      "source": [
        "import lightgbm as lgb \n",
        "from lightgbm import LGBMClassifier, plot_importance\n",
        "lgb = LGBMClassifier()\n",
        "lgb.fit(train_x, train_y)"
      ],
      "execution_count": 98,
      "outputs": [
        {
          "output_type": "execute_result",
          "data": {
            "text/plain": [
              "LGBMClassifier(boosting_type='gbdt', class_weight=None, colsample_bytree=1.0,\n",
              "               importance_type='split', learning_rate=0.1, max_depth=-1,\n",
              "               min_child_samples=20, min_child_weight=0.001, min_split_gain=0.0,\n",
              "               n_estimators=100, n_jobs=-1, num_leaves=31, objective=None,\n",
              "               random_state=None, reg_alpha=0.0, reg_lambda=0.0, silent=True,\n",
              "               subsample=1.0, subsample_for_bin=200000, subsample_freq=0)"
            ]
          },
          "metadata": {
            "tags": []
          },
          "execution_count": 98
        }
      ]
    },
    {
      "cell_type": "code",
      "metadata": {
        "id": "3wBbwiKYwgi-",
        "colab_type": "code",
        "colab": {
          "base_uri": "https://localhost:8080/",
          "height": 428
        },
        "outputId": "0f17ca54-26b6-4196-bb9f-c1651c158732"
      },
      "source": [
        "test.iloc[:,1:6]"
      ],
      "execution_count": 102,
      "outputs": [
        {
          "output_type": "execute_result",
          "data": {
            "text/html": [
              "<div>\n",
              "<style scoped>\n",
              "    .dataframe tbody tr th:only-of-type {\n",
              "        vertical-align: middle;\n",
              "    }\n",
              "\n",
              "    .dataframe tbody tr th {\n",
              "        vertical-align: top;\n",
              "    }\n",
              "\n",
              "    .dataframe thead th {\n",
              "        text-align: right;\n",
              "    }\n",
              "</style>\n",
              "<table border=\"1\" class=\"dataframe\">\n",
              "  <thead>\n",
              "    <tr style=\"text-align: right;\">\n",
              "      <th></th>\n",
              "      <th>psfMag_u</th>\n",
              "      <th>psfMag_g</th>\n",
              "      <th>psfMag_r</th>\n",
              "      <th>psfMag_i</th>\n",
              "      <th>psfMag_z</th>\n",
              "    </tr>\n",
              "    <tr>\n",
              "      <th>id</th>\n",
              "      <th></th>\n",
              "      <th></th>\n",
              "      <th></th>\n",
              "      <th></th>\n",
              "      <th></th>\n",
              "    </tr>\n",
              "  </thead>\n",
              "  <tbody>\n",
              "    <tr>\n",
              "      <th>199991</th>\n",
              "      <td>23.817399</td>\n",
              "      <td>22.508963</td>\n",
              "      <td>20.981106</td>\n",
              "      <td>18.517316</td>\n",
              "      <td>17.076079</td>\n",
              "    </tr>\n",
              "    <tr>\n",
              "      <th>199992</th>\n",
              "      <td>22.806983</td>\n",
              "      <td>21.937111</td>\n",
              "      <td>20.335770</td>\n",
              "      <td>20.000512</td>\n",
              "      <td>19.527369</td>\n",
              "    </tr>\n",
              "    <tr>\n",
              "      <th>199993</th>\n",
              "      <td>21.024250</td>\n",
              "      <td>19.235669</td>\n",
              "      <td>18.304061</td>\n",
              "      <td>17.808608</td>\n",
              "      <td>17.380113</td>\n",
              "    </tr>\n",
              "    <tr>\n",
              "      <th>199994</th>\n",
              "      <td>20.503424</td>\n",
              "      <td>20.286261</td>\n",
              "      <td>20.197204</td>\n",
              "      <td>20.162419</td>\n",
              "      <td>20.059832</td>\n",
              "    </tr>\n",
              "    <tr>\n",
              "      <th>199995</th>\n",
              "      <td>24.244851</td>\n",
              "      <td>22.668237</td>\n",
              "      <td>21.239333</td>\n",
              "      <td>19.284777</td>\n",
              "      <td>18.235939</td>\n",
              "    </tr>\n",
              "    <tr>\n",
              "      <th>...</th>\n",
              "      <td>...</td>\n",
              "      <td>...</td>\n",
              "      <td>...</td>\n",
              "      <td>...</td>\n",
              "      <td>...</td>\n",
              "    </tr>\n",
              "    <tr>\n",
              "      <th>209995</th>\n",
              "      <td>19.765035</td>\n",
              "      <td>19.542406</td>\n",
              "      <td>19.439286</td>\n",
              "      <td>19.357957</td>\n",
              "      <td>19.357305</td>\n",
              "    </tr>\n",
              "    <tr>\n",
              "      <th>209996</th>\n",
              "      <td>19.960030</td>\n",
              "      <td>19.609379</td>\n",
              "      <td>19.325949</td>\n",
              "      <td>19.391290</td>\n",
              "      <td>19.258862</td>\n",
              "    </tr>\n",
              "    <tr>\n",
              "      <th>209997</th>\n",
              "      <td>21.221899</td>\n",
              "      <td>20.276182</td>\n",
              "      <td>20.090775</td>\n",
              "      <td>19.927208</td>\n",
              "      <td>19.766732</td>\n",
              "    </tr>\n",
              "    <tr>\n",
              "      <th>209998</th>\n",
              "      <td>21.625469</td>\n",
              "      <td>21.624585</td>\n",
              "      <td>21.093379</td>\n",
              "      <td>21.191775</td>\n",
              "      <td>21.186596</td>\n",
              "    </tr>\n",
              "    <tr>\n",
              "      <th>209999</th>\n",
              "      <td>17.438361</td>\n",
              "      <td>16.531405</td>\n",
              "      <td>16.186019</td>\n",
              "      <td>16.034888</td>\n",
              "      <td>15.995932</td>\n",
              "    </tr>\n",
              "  </tbody>\n",
              "</table>\n",
              "<p>10009 rows × 5 columns</p>\n",
              "</div>"
            ],
            "text/plain": [
              "         psfMag_u   psfMag_g   psfMag_r   psfMag_i   psfMag_z\n",
              "id                                                           \n",
              "199991  23.817399  22.508963  20.981106  18.517316  17.076079\n",
              "199992  22.806983  21.937111  20.335770  20.000512  19.527369\n",
              "199993  21.024250  19.235669  18.304061  17.808608  17.380113\n",
              "199994  20.503424  20.286261  20.197204  20.162419  20.059832\n",
              "199995  24.244851  22.668237  21.239333  19.284777  18.235939\n",
              "...           ...        ...        ...        ...        ...\n",
              "209995  19.765035  19.542406  19.439286  19.357957  19.357305\n",
              "209996  19.960030  19.609379  19.325949  19.391290  19.258862\n",
              "209997  21.221899  20.276182  20.090775  19.927208  19.766732\n",
              "209998  21.625469  21.624585  21.093379  21.191775  21.186596\n",
              "209999  17.438361  16.531405  16.186019  16.034888  15.995932\n",
              "\n",
              "[10009 rows x 5 columns]"
            ]
          },
          "metadata": {
            "tags": []
          },
          "execution_count": 102
        }
      ]
    },
    {
      "cell_type": "code",
      "metadata": {
        "id": "1b0Dnsd3wXpb",
        "colab_type": "code",
        "colab": {}
      },
      "source": [
        "test_x\n",
        "test['psfMag_sum'] = test.iloc[:,1:6].sum(axis=1)\n",
        "test['fiberMag_sum'] = test.iloc[:,6:11].sum(axis=1)\n",
        "test['petroMag_sum'] = test.iloc[:,11:16].sum(axis=1)\n",
        "test['modelMag_sum'] = test.iloc[:,16:21].sum(axis=1)"
      ],
      "execution_count": 0,
      "outputs": []
    },
    {
      "cell_type": "code",
      "metadata": {
        "id": "WnpIXK1ho7pu",
        "colab_type": "code",
        "colab": {}
      },
      "source": [
        "lgb_pred = lgb.predict_proba(test_x)"
      ],
      "execution_count": 0,
      "outputs": []
    },
    {
      "cell_type": "code",
      "metadata": {
        "id": "eSBMqoFhpQSl",
        "colab_type": "code",
        "colab": {}
      },
      "source": [
        "submission = pd.DataFrame(data=lgb_pred, columns = sample_submission.columns, index = sample_submission.index)\n",
        "submission.to_csv('submission.csv', index = True)"
      ],
      "execution_count": 0,
      "outputs": []
    },
    {
      "cell_type": "code",
      "metadata": {
        "id": "xoNsLG9GpZrK",
        "colab_type": "code",
        "colab": {
          "base_uri": "https://localhost:8080/",
          "height": 421
        },
        "outputId": "9f59e2cd-b46c-4550-9494-6ad3ad9c3d14"
      },
      "source": [
        "fig, ax = plt.subplots(figsize = (10,6))\n",
        "plot_importance(lgb, ax = ax)"
      ],
      "execution_count": 106,
      "outputs": [
        {
          "output_type": "execute_result",
          "data": {
            "text/plain": [
              "<matplotlib.axes._subplots.AxesSubplot at 0x7fb0df5990f0>"
            ]
          },
          "metadata": {
            "tags": []
          },
          "execution_count": 106
        },
        {
          "output_type": "display_data",
          "data": {
            "image/png": "[encoded data removed]",
            "text/plain": [
              "<Figure size 720x432 with 1 Axes>"
            ]
          },
          "metadata": {
            "tags": []
          }
        }
      ]
    },
    {
      "cell_type": "markdown",
      "metadata": {
        "id": "m9O3Qof1xR32",
        "colab_type": "text"
      },
      "source": [
        "천체 유형 분류 문제이다. 천문학에 대한 전반적인 지식이 부족하여 데이터 핸들링을 할 수 없어 다른 Competition을 진행하려고 한다."
      ]
    }
  ]
}
