{
  "nbformat": 4,
  "nbformat_minor": 0,
  "metadata": {
    "colab": {
      "name": "Dacon_제주버스운행시간예측.ipynb",
      "provenance": [],
      "collapsed_sections": [],
      "authorship_tag": "ABX9TyN7yzigGYrn7Y0cmxcaxRvA",
      "include_colab_link": true
    },
    "kernelspec": {
      "name": "python3",
      "display_name": "Python 3"
    },
    "accelerator": "GPU"
  },
  "cells": [
    {
      "cell_type": "markdown",
      "metadata": {
        "id": "view-in-github",
        "colab_type": "text"
      },
      "source": [
        "<a href=\"https://colab.research.google.com/github/Sen-Ma/Dacon/blob/master/Dacon_%EC%A0%9C%EC%A3%BC%EB%B2%84%EC%8A%A4%EC%9A%B4%ED%96%89%EC%8B%9C%EA%B0%84%EC%98%88%EC%B8%A1.ipynb\" target=\"_parent\"><img src=\"https://colab.research.google.com/assets/colab-badge.svg\" alt=\"Open In Colab\"/></a>"
      ]
    },
    {
      "cell_type": "code",
      "metadata": {
        "id": "1FRzq-8Aahij",
        "colab_type": "code",
        "colab": {
          "base_uri": "https://localhost:8080/",
          "height": 55
        },
        "outputId": "5cbfbdea-32d0-45a6-92fd-ee005e74a877"
      },
      "source": [
        "from google.colab import drive\n",
        "drive.mount('/content/gdrive')"
      ],
      "execution_count": 19,
      "outputs": [
        {
          "output_type": "stream",
          "text": [
            "Drive already mounted at /content/gdrive; to attempt to forcibly remount, call drive.mount(\"/content/gdrive\", force_remount=True).\n"
          ],
          "name": "stdout"
        }
      ]
    },
    {
      "cell_type": "code",
      "metadata": {
        "id": "LfNRb0CwaqtM",
        "colab_type": "code",
        "colab": {}
      },
      "source": [
        "import numpy as np \n",
        "import torch.backends.cudnn\n",
        "import torch\n",
        "import os\n",
        "from glob import glob\n",
        "from torch import nn, optim\n",
        "from sklearn.model_selection import KFold\n",
        "from torch.utils.data import DataLoader, Dataset, TensorDataset\n",
        "import pandas as pd \n",
        "import geopy.distance"
      ],
      "execution_count": 0,
      "outputs": []
    },
    {
      "cell_type": "code",
      "metadata": {
        "id": "ZbBz9316asl2",
        "colab_type": "code",
        "colab": {}
      },
      "source": [
        "train = pd.read_csv('/content/gdrive/My Drive/train.csv')\n",
        "test = pd.read_csv('/content/gdrive/My Drive/test.csv')"
      ],
      "execution_count": 0,
      "outputs": []
    },
    {
      "cell_type": "code",
      "metadata": {
        "id": "-Al0kK-NbJtb",
        "colab_type": "code",
        "colab": {}
      },
      "source": [
        "np.random.seed(1)\n",
        "torch.manual_seed(1)\n",
        "torch.backends.cudnn.deterministic = True \n",
        "torch.backends.cudnn.benchmark = False"
      ],
      "execution_count": 0,
      "outputs": []
    },
    {
      "cell_type": "code",
      "metadata": {
        "id": "IRg-c18_bl2g",
        "colab_type": "code",
        "colab": {
          "base_uri": "https://localhost:8080/",
          "height": 326
        },
        "outputId": "6b321a44-a141-41b0-dbb4-0ab2fb29b3d6"
      },
      "source": [
        "train.head()"
      ],
      "execution_count": 23,
      "outputs": [
        {
          "output_type": "execute_result",
          "data": {
            "text/html": [
              "<div>\n",
              "<style scoped>\n",
              "    .dataframe tbody tr th:only-of-type {\n",
              "        vertical-align: middle;\n",
              "    }\n",
              "\n",
              "    .dataframe tbody tr th {\n",
              "        vertical-align: top;\n",
              "    }\n",
              "\n",
              "    .dataframe thead th {\n",
              "        text-align: right;\n",
              "    }\n",
              "</style>\n",
              "<table border=\"1\" class=\"dataframe\">\n",
              "  <thead>\n",
              "    <tr style=\"text-align: right;\">\n",
              "      <th></th>\n",
              "      <th>id</th>\n",
              "      <th>date</th>\n",
              "      <th>route_id</th>\n",
              "      <th>vh_id</th>\n",
              "      <th>route_nm</th>\n",
              "      <th>now_latitude</th>\n",
              "      <th>now_longitude</th>\n",
              "      <th>now_station</th>\n",
              "      <th>now_arrive_time</th>\n",
              "      <th>distance</th>\n",
              "      <th>next_station</th>\n",
              "      <th>next_latitude</th>\n",
              "      <th>next_longitude</th>\n",
              "      <th>next_arrive_time</th>\n",
              "    </tr>\n",
              "  </thead>\n",
              "  <tbody>\n",
              "    <tr>\n",
              "      <th>0</th>\n",
              "      <td>0</td>\n",
              "      <td>2019-10-15</td>\n",
              "      <td>405136001</td>\n",
              "      <td>7997025</td>\n",
              "      <td>360-1</td>\n",
              "      <td>33.456267</td>\n",
              "      <td>126.551750</td>\n",
              "      <td>제주대학교입구</td>\n",
              "      <td>06시</td>\n",
              "      <td>266.0</td>\n",
              "      <td>제대마을</td>\n",
              "      <td>33.457724</td>\n",
              "      <td>126.554014</td>\n",
              "      <td>24</td>\n",
              "    </tr>\n",
              "    <tr>\n",
              "      <th>1</th>\n",
              "      <td>1</td>\n",
              "      <td>2019-10-15</td>\n",
              "      <td>405136001</td>\n",
              "      <td>7997025</td>\n",
              "      <td>360-1</td>\n",
              "      <td>33.457724</td>\n",
              "      <td>126.554014</td>\n",
              "      <td>제대마을</td>\n",
              "      <td>06시</td>\n",
              "      <td>333.0</td>\n",
              "      <td>제대아파트</td>\n",
              "      <td>33.458783</td>\n",
              "      <td>126.557353</td>\n",
              "      <td>36</td>\n",
              "    </tr>\n",
              "    <tr>\n",
              "      <th>2</th>\n",
              "      <td>2</td>\n",
              "      <td>2019-10-15</td>\n",
              "      <td>405136001</td>\n",
              "      <td>7997025</td>\n",
              "      <td>360-1</td>\n",
              "      <td>33.458783</td>\n",
              "      <td>126.557353</td>\n",
              "      <td>제대아파트</td>\n",
              "      <td>06시</td>\n",
              "      <td>415.0</td>\n",
              "      <td>제주대학교</td>\n",
              "      <td>33.459893</td>\n",
              "      <td>126.561624</td>\n",
              "      <td>40</td>\n",
              "    </tr>\n",
              "    <tr>\n",
              "      <th>3</th>\n",
              "      <td>3</td>\n",
              "      <td>2019-10-15</td>\n",
              "      <td>405136001</td>\n",
              "      <td>7997025</td>\n",
              "      <td>360-1</td>\n",
              "      <td>33.479705</td>\n",
              "      <td>126.543811</td>\n",
              "      <td>남국원(아라방면)</td>\n",
              "      <td>06시</td>\n",
              "      <td>578.0</td>\n",
              "      <td>제주여자중고등학교(아라방면)</td>\n",
              "      <td>33.484860</td>\n",
              "      <td>126.542928</td>\n",
              "      <td>42</td>\n",
              "    </tr>\n",
              "    <tr>\n",
              "      <th>4</th>\n",
              "      <td>4</td>\n",
              "      <td>2019-10-15</td>\n",
              "      <td>405136001</td>\n",
              "      <td>7997025</td>\n",
              "      <td>360-1</td>\n",
              "      <td>33.485662</td>\n",
              "      <td>126.494923</td>\n",
              "      <td>도호동</td>\n",
              "      <td>07시</td>\n",
              "      <td>374.0</td>\n",
              "      <td>은남동</td>\n",
              "      <td>33.485822</td>\n",
              "      <td>126.490897</td>\n",
              "      <td>64</td>\n",
              "    </tr>\n",
              "  </tbody>\n",
              "</table>\n",
              "</div>"
            ],
            "text/plain": [
              "   id        date   route_id  ...  next_latitude next_longitude  next_arrive_time\n",
              "0   0  2019-10-15  405136001  ...      33.457724     126.554014                24\n",
              "1   1  2019-10-15  405136001  ...      33.458783     126.557353                36\n",
              "2   2  2019-10-15  405136001  ...      33.459893     126.561624                40\n",
              "3   3  2019-10-15  405136001  ...      33.484860     126.542928                42\n",
              "4   4  2019-10-15  405136001  ...      33.485822     126.490897                64\n",
              "\n",
              "[5 rows x 14 columns]"
            ]
          },
          "metadata": {
            "tags": []
          },
          "execution_count": 23
        }
      ]
    },
    {
      "cell_type": "code",
      "metadata": {
        "id": "eHecmNZLbeIi",
        "colab_type": "code",
        "colab": {
          "base_uri": "https://localhost:8080/",
          "height": 73
        },
        "outputId": "f1a1e23c-01e9-48f2-b6e2-04471b232aa0"
      },
      "source": [
        "indexNames = train[train['now_arrive_time'] == \"00시\"].index\n",
        "train.drop(indexNames, inplace=True)\n",
        "indexNmaes = test[test['now_station'] == \"제주한라대학교(종점)\"].index\n",
        "test.set_value(indexNmaes, 'now_station', \"노형오거리\")\n",
        "\n",
        "dist = [geopy.distance.vincenty((i,j), (k,l)).km for i, j, k, l in \n",
        "        list(zip(train['now_latitude'], train['now_longitude'], train['next_latitude'], train['next_longitude']))]\n",
        "train['dist_line'] = dist\n",
        "\n",
        "dist = [geopy.distance.vincenty((i,j), (k,l)).km for i, j, k, l in \n",
        "        list(zip(test['now_latitude'], test['now_longitude'], test['next_latitude'], test['next_longitude']))]\n",
        "test['dist_line'] = dist\n",
        "\n",
        "Y_train = list(train['next_arrive_time'])\n",
        "\n",
        "train['day'] = pd.to_datetime(train['date']).dt.weekday_name\n",
        "test['day'] = pd.to_datetime(test['date']).dt.weekday_name"
      ],
      "execution_count": 24,
      "outputs": [
        {
          "output_type": "stream",
          "text": [
            "/usr/local/lib/python3.6/dist-packages/ipykernel_launcher.py:4: FutureWarning: set_value is deprecated and will be removed in a future release. Please use .at[] or .iat[] accessors instead\n",
            "  after removing the cwd from sys.path.\n"
          ],
          "name": "stderr"
        }
      ]
    },
    {
      "cell_type": "code",
      "metadata": {
        "id": "JHM83daMbp6y",
        "colab_type": "code",
        "colab": {
          "base_uri": "https://localhost:8080/",
          "height": 287
        },
        "outputId": "fe00be66-ed45-4877-f625-bc8766ed962b"
      },
      "source": [
        "up = (33.506286, 126.490312)\n",
        "right = (33.493521, 126.895326)\n",
        "center = (33.379724, 126.545315)\n",
        "\n",
        "t1 = [geopy.distance.vincenty((i,j), up).km for i, j in list(zip(train['now_latitude'], train['now_longitude']))]\n",
        "t3 = [geopy.distance.vincenty((i,j), right).km for i, j in list(zip(train['now_latitude'], train['now_longitude']))]\n",
        "t4 = [geopy.distance.vincenty((i,j), center).km for i, j in list(zip(train['now_latitude'], train['now_longitude']))]\n",
        "total = pd.DataFrame(list(zip(t1, t3, t4)), columns = ['up', 'right', 'center'])\n",
        "\n",
        "train['dist_name'] = total.apply(lambda x : x.argmin(), axis = 1)\n",
        "\n",
        "t1 = [geopy.distance.vincenty((i,j), up).km for i,j in list(zip(test['now_latitude'], test['now_longitude']))]\n",
        "t3 = [geopy.distance.vincenty((i,j), right).km for i,j in list(zip(test['now_latitude'], test['now_longitude']))]\n",
        "t4 = [geopy.distance.vincenty((i,j), center).km for i,j in list(zip(test['now_latitude'], test['now_longitude']))]\n",
        "\n",
        "total = pd.DataFrame(list(zip(t1, t3, t4)), columns = ['up', 'right', 'center'])\n",
        "test['dist_name'] = total.apply(lambda x : x.argmin(), axis = 1)"
      ],
      "execution_count": 25,
      "outputs": [
        {
          "output_type": "stream",
          "text": [
            "/usr/local/lib/python3.6/dist-packages/ipykernel_launcher.py:10: FutureWarning: \n",
            "The current behaviour of 'Series.argmin' is deprecated, use 'idxmin'\n",
            "instead.\n",
            "The behavior of 'argmin' will be corrected to return the positional\n",
            "minimum in the future. For now, use 'series.values.argmin' or\n",
            "'np.argmin(np.array(values))' to get the position of the minimum\n",
            "row.\n",
            "  # Remove the CWD from sys.path while we load stuff.\n",
            "/usr/local/lib/python3.6/dist-packages/ipykernel_launcher.py:17: FutureWarning: \n",
            "The current behaviour of 'Series.argmin' is deprecated, use 'idxmin'\n",
            "instead.\n",
            "The behavior of 'argmin' will be corrected to return the positional\n",
            "minimum in the future. For now, use 'series.values.argmin' or\n",
            "'np.argmin(np.array(values))' to get the position of the minimum\n",
            "row.\n"
          ],
          "name": "stderr"
        }
      ]
    },
    {
      "cell_type": "code",
      "metadata": {
        "id": "j7oDQPQ0bukK",
        "colab_type": "code",
        "colab": {}
      },
      "source": [
        "del train['now_latitude']\n",
        "del train['now_longitude']\n",
        "del train['next_latitude']\n",
        "del train['next_longitude']\n",
        "del train['id']\n",
        "del train['date']\n",
        "del train['route_id']\n",
        "del train['vh_id']\n",
        "del train['route_nm']\n",
        "\n",
        "del test['route_id']\n",
        "del test['vh_id']\n",
        "del test['route_nm']\n",
        "del test['now_latitude']\n",
        "del test['now_longitude']\n",
        "del test['next_latitude']\n",
        "del test['next_longitude']\n",
        "del train['next_arrive_time']\n",
        "del test['date']\n",
        "del test['id']\n"
      ],
      "execution_count": 0,
      "outputs": []
    },
    {
      "cell_type": "code",
      "metadata": {
        "id": "269lJhO3gZBE",
        "colab_type": "code",
        "colab": {}
      },
      "source": [
        "one_hot_train = pd.get_dummies(train)\n",
        "one_hot_test = pd.get_dummies(test)\n",
        "input_len = len(one_hot_train.columns)\n",
        "\n",
        "X_train = one_hot_train.values.tolist()\n",
        "X_test = one_hot_train.values.tolist()\n",
        "\n",
        "X_train = np.array(X_train)\n",
        "X_test = np.array(X_test)\n",
        "Y_train = np.array(Y_train)\n",
        "\n",
        "np.save('X_train.npy', X_train)\n",
        "np.save('X_test.npy', X_test)\n",
        "np.save('Y_train.npy', Y_train)"
      ],
      "execution_count": 0,
      "outputs": []
    },
    {
      "cell_type": "code",
      "metadata": {
        "id": "db_Jq31hhGSK",
        "colab_type": "code",
        "colab": {}
      },
      "source": [
        "train_x = np.load()"
      ],
      "execution_count": 0,
      "outputs": []
    }
  ]
}